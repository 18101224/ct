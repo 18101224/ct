{
 "cells": [
  {
   "cell_type": "code",
   "execution_count": null,
   "id": "initial_id",
   "metadata": {
    "collapsed": true
   },
   "outputs": [],
   "source": [
    "import sys\n",
    "C = int(input())\n",
    "def ax(a,b):\n",
    "    i = a\n",
    "    while i > 1 :\n",
    "        if b % i == 0 and a % i == 0 :\n",
    "            return i\n",
    "        else:\n",
    "            i-=1\n",
    "    return 1\n",
    "for c in range(C):\n",
    "    data = list(map(int,sys.stdin.readline().split()))[1:]\n",
    "    data.sort()\n",
    "    result = 0\n",
    "    for i in range(len(data)):\n",
    "        for j in range(i+1,len(data)):\n",
    "            result+=ax(data[i],data[j])\n",
    "    print(result)"
   ]
  },
  {
   "cell_type": "code",
   "execution_count": null,
   "outputs": [],
   "source": [
    "#시간초\n",
    "import sys, math\n",
    "n,s = tuple(map(int,sys.stdin.readline().split()))\n",
    "nums = list(map(int,sys.stdin.readline().split()))\n",
    "nums = list(map(lambda x : abs(x-s),nums))\n",
    "result = min(nums)\n",
    "while result > 1:\n",
    "    find = True\n",
    "    for num in nums :\n",
    "        if num % result != 0 :\n",
    "            find = False\n",
    "            break\n",
    "    if not find :\n",
    "        result-=1\n",
    "    else:\n",
    "        break\n",
    "\n",
    "print(result)"
   ],
   "metadata": {
    "collapsed": false
   },
   "id": "4feee4e03287cc92"
  },
  {
   "cell_type": "code",
   "execution_count": null,
   "outputs": [],
   "source": [
    "import sys\n",
    "string = sys.stdin.readline()[:-1]\n",
    "\n",
    "if not len(string) % 3 == 0:\n",
    "    if len(string) % 3 == 2:\n",
    "        string = '0'+string\n",
    "    else:\n",
    "        string = '00' + string\n",
    "string = list(map(int, string))\n",
    "result = []\n",
    "for i in range(0,len(string)-1,3):\n",
    "    result.append(string[i]*4+string[i+1]*2+string[i+2])\n",
    "for i in result:\n",
    "    print(i,end='')"
   ],
   "metadata": {
    "collapsed": false
   },
   "id": "86ff88a01f955731"
  },
  {
   "cell_type": "code",
   "execution_count": 1,
   "outputs": [
    {
     "data": {
      "text/plain": "'22'"
     },
     "execution_count": 1,
     "metadata": {},
     "output_type": "execute_result"
    }
   ],
   "source": [
    "import sys\n",
    "string = list(map(int,list(sys.stdin.readline()[:-1])))\n",
    "result = []\n",
    "for idx,s in enumerate(string):\n",
    "    result.append(s//4)\n",
    "    s = s%4\n",
    "    result.append(s//2)\n",
    "    s = s%2\n",
    "    result.append(s)\n",
    "find = False\n",
    "\n",
    "for i in result:\n",
    "    if i == 0 and not find :\n",
    "        continue\n",
    "    else:\n",
    "        find=True\n",
    "    print(i,end='')\n",
    "if not find :\n",
    "    print(0)"
   ],
   "metadata": {
    "collapsed": false,
    "ExecuteTime": {
     "end_time": "2024-02-04T09:08:54.930428Z",
     "start_time": "2024-02-04T09:08:54.926270Z"
    }
   },
   "id": "591abc1619df91b0"
  },
  {
   "cell_type": "code",
   "execution_count": null,
   "outputs": [],
   "source": [
    "#골ㅇ드 , pypy\n",
    "import math, sys\n",
    "N= int(input())\n",
    "nums = []\n",
    "for i in range(N):\n",
    "    n = int(sys.stdin.readline()[:-1])\n",
    "    nums.append(n)\n",
    "mx = max(nums)\n",
    "prime = [True] * (mx+1)\n",
    "prime[:2] = [False,False]\n",
    "\n",
    "for n in range(2,int(math.sqrt(mx))+2):\n",
    "    if prime[n] :\n",
    "        prime[n+n::n] = [False] * len(prime[n+n::n])\n",
    "for n in nums :\n",
    "    b = n-3\n",
    "    a = 3\n",
    "    count = 0\n",
    "    while b>=a :\n",
    "        if prime[b] and prime[a] :\n",
    "            count+=1\n",
    "        b-=2\n",
    "        a+=2\n",
    "    print(count)"
   ],
   "metadata": {
    "collapsed": false
   },
   "id": "69f1dd2f0181f4a3"
  },
  {
   "cell_type": "code",
   "execution_count": null,
   "outputs": [],
   "source": [
    "#숨바꼭\n",
    "import sys,math\n",
    "_, s = tuple(map(int,sys.stdin.readline().split()))\n",
    "\n",
    "nums = list(map(int,sys.stdin.readline().split()))\n",
    "nums = list(map(lambda x : abs(x-s), nums))\n",
    "\n",
    "mi = min(nums)\n",
    "yak_f = []\n",
    "yak_b = []\n",
    "for i in range(1,int(math.sqrt(mi))+1):\n",
    "    if mi % i == 0 :\n",
    "        yak_f.append(i)\n",
    "        yak_b.append(mi//i)\n",
    "yaks = yak_b + yak_f[::-1]\n",
    "for mi in yaks :\n",
    "    if mi == 1:\n",
    "        print(1)\n",
    "        break\n",
    "    else:\n",
    "        found = True\n",
    "        for num in nums :\n",
    "            if num % mi != 0 :\n",
    "                found = False\n",
    "                break\n",
    "        if found :\n",
    "            print(mi)\n",
    "            break\n",
    "\n"
   ],
   "metadata": {
    "collapsed": false
   },
   "id": "5b724db71d8df4f7"
  },
  {
   "cell_type": "code",
   "execution_count": null,
   "outputs": [],
   "source": [
    "def code(a):\n",
    "    '''\n",
    "    :param a: integer input \n",
    "    :return: string \n",
    "    '''\n",
    "    if a<10 :\n",
    "        return str(a)\n",
    "    else:\n",
    "        return chr(55+a)\n",
    "n,b = tuple(map(int,input().split()))\n",
    "i = 30\n",
    "result = ''\n",
    "while i >0 :\n",
    "    if b**i <= n :\n",
    "        q = n//b**i\n",
    "        result = result+code(q)\n",
    "        n = n - q*(b**i)\n",
    "        i-=1\n",
    "    else:\n",
    "        i-=1"
   ],
   "metadata": {
    "collapsed": false
   },
   "id": "5b24f030cee1342c"
  },
  {
   "cell_type": "code",
   "execution_count": 9,
   "outputs": [
    {
     "data": {
      "text/plain": "11"
     },
     "execution_count": 9,
     "metadata": {},
     "output_type": "execute_result"
    }
   ],
   "source": [
    "ord('B') - 55"
   ],
   "metadata": {
    "collapsed": false,
    "ExecuteTime": {
     "end_time": "2024-02-04T13:20:40.221924Z",
     "start_time": "2024-02-04T13:20:40.207756Z"
    }
   },
   "id": "4f1e198463550932"
  },
  {
   "cell_type": "code",
   "execution_count": null,
   "outputs": [],
   "source": [],
   "metadata": {
    "collapsed": false
   },
   "id": "24a7def66cf6dc93"
  }
 ],
 "metadata": {
  "kernelspec": {
   "display_name": "Python 3",
   "language": "python",
   "name": "python3"
  },
  "language_info": {
   "codemirror_mode": {
    "name": "ipython",
    "version": 2
   },
   "file_extension": ".py",
   "mimetype": "text/x-python",
   "name": "python",
   "nbconvert_exporter": "python",
   "pygments_lexer": "ipython2",
   "version": "2.7.6"
  }
 },
 "nbformat": 4,
 "nbformat_minor": 5
}
