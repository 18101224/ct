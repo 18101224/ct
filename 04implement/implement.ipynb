{
 "cells": [
  {
   "attachments": {},
   "cell_type": "markdown",
   "metadata": {},
   "source": [
    "<h1>구현</h1>\n",
    "<h4>tip</h4>\n",
    "문제해결법은 쉬운데 구현이 귀찮은 문제들이 앞번호에서 주어질 수 있다. 코드가 길어지거나 특정 소수점 자리까지 출력하거나, 파싱을 해야하는 문제가 있을 수 있다.\n",
    "\n",
    "시뮬레이션 문제 : 문제에서 제시한 알고리즘을 한 단계씩 차례대로 직접 수행\n",
    "완전 탐색 : 모든 경우의 수를 주저없이 다 계산하는 해결 방법\n",
    "\n",
    "고려해야할 점은 메모리와 시간제한이다. \n",
    "데이터 개수 1000개가 약 4KB정도 된다. \n",
    "시간복잡도를 생각해보고, 100만개정도의 입력정도면 단순히 구현하는 것만으로도 해결이 가능하다. \n",
    "\n",
    "환경에서 Pypy3를 지원한다면 이를 활용하는것이 더욱 유리하다.  "
   ]
  },
  {
   "cell_type": "code",
   "execution_count": 1,
   "metadata": {},
   "outputs": [],
   "source": [
    "from collections import defaultdict\n",
    "import sys\n",
    "import math"
   ]
  },
  {
   "attachments": {},
   "cell_type": "markdown",
   "metadata": {},
   "source": [
    "<h1>왕실의 나이트</h1>"
   ]
  },
  {
   "cell_type": "code",
   "execution_count": 3,
   "metadata": {},
   "outputs": [
    {
     "name": "stdout",
     "output_type": "stream",
     "text": [
      "2\n"
     ]
    }
   ],
   "source": [
    "position = input()\n",
    "y = ord(position[0])-ord('a')\n",
    "x= int(position[1])-1\n",
    "count=0\n",
    "for i in [-2,2]:\n",
    "    for j in [-1,1]:\n",
    "        if not (x+i < 0 or j+y < 0 or x+i >=8 or j+y >=8):\n",
    "            count+=1\n",
    "        if not (y+i < 0 or j+x < 0 or y+i >=8 or j+x >=8):\n",
    "            count+=1\n",
    "print(count)"
   ]
  },
  {
   "attachments": {},
   "cell_type": "markdown",
   "metadata": {},
   "source": [
    "<h1>게임 개발</h1>"
   ]
  },
  {
   "cell_type": "code",
   "execution_count": null,
   "metadata": {},
   "outputs": [],
   "source": [
    "(N,M) = tuple(map(int,input().split(' ')))\n",
    "(x,y,direction) = tuple(map(int,input().split(' ')))\n",
    "mab = []\n",
    "for i in range(N): #입력\n",
    "    temp=list(map(int,sys.stdin.readline().split(' ')))\n",
    "    mab.append(temp)\n",
    "visited = [[False for i in range(M)] for j in range(N)]\n",
    "def rotation(direction): #왼쪽 회전\n",
    "    if direction ==0:\n",
    "        return 3\n",
    "    else:\n",
    "        return direction-1\n",
    "def goLeft(direction): #왼쪽으로 회전후 정방향으로 가는 디렉션\n",
    "    if direction == 0:\n",
    "        return (-1,0)\n",
    "    elif direction ==1:\n",
    "        return (0,1)\n",
    "    elif direction ==2:\n",
    "        return (1,0)\n",
    "    else:\n",
    "        return (0,-1)\n",
    "def goBack(direction): #네 방향 모두 꽉 막혀있을 경우 뒤로가는 방향 리턴\n",
    "    if direction == 0:\n",
    "        return (0,-1)\n",
    "    elif direction ==1:\n",
    "        return (-1,0)\n",
    "    elif direction ==2:\n",
    "        return (0,1)\n",
    "    else:\n",
    "        return (1,0)\n",
    "def invalid(x,y): #인덱스 벗어난경우 확인\n",
    "    if x<0 or y<0 or x>=N or y>=M:\n",
    "        return True\n",
    "    return False\n",
    "def sum(matrix): #마지막 몇 개의 지점을 방문했는지 행렬 합 구하는 함수\n",
    "    result=0\n",
    "    for i in range(len(matrix)):\n",
    "        for j in range(len(matrix[0])):\n",
    "            result += matrix[i][j]\n",
    "    return result\n",
    "\n",
    "while True:\n",
    "    old=direction\n",
    "    left =goLeft(old)\n",
    "    \n",
    "    if not invalid(x+left[0],y+left[1]) and not visited[x+left[0]][y+left[1]] and not mab[x+left[0]][y+left[1]] : #왼쪽 방향이 유효하고, 육지이며, 방문하지 않은경우\n",
    "        direction = rotation(direction)\n",
    "        visited[x+left[0]][y+left[1]]=True\n",
    "        x+=left[0]\n",
    "        y+=left[1]\n",
    "        count+=1\n",
    "        continue #뛰어넘는다\n",
    "    lock = 0 \n",
    "    for (dx,dy) in [(1,0),(0,1),(-1,0),(0,-1)]:\n",
    "        if invalid(x+dx,y+dy) or visited[x+dx][y+dy] or mab[x+dx][y+dy] :\n",
    "            lock+=1\n",
    "    if lock ==4:#왼쪽 방향 네 면이 막힌경우\n",
    "        d = goBack(direction)\n",
    "        x+=d[0]\n",
    "        y+=d[1]\n",
    "        if mab[x][y] !=1:\n",
    "            continue\n",
    "        else:\n",
    "            print('고립')\n",
    "            break    \n",
    "    "
   ]
  }
 ],
 "metadata": {
  "kernelspec": {
   "display_name": "base",
   "language": "python",
   "name": "python3"
  },
  "language_info": {
   "codemirror_mode": {
    "name": "ipython",
    "version": 3
   },
   "file_extension": ".py",
   "mimetype": "text/x-python",
   "name": "python",
   "nbconvert_exporter": "python",
   "pygments_lexer": "ipython3",
   "version": "3.9.0"
  },
  "orig_nbformat": 4
 },
 "nbformat": 4,
 "nbformat_minor": 2
}
