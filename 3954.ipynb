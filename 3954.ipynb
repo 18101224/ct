{
 "cells": [
  {
   "cell_type": "markdown",
   "source": [
    "<h1>단어뒤집기</h1>"
   ],
   "metadata": {
    "collapsed": false
   },
   "id": "e892c0a396683c7c"
  },
  {
   "cell_type": "code",
   "execution_count": null,
   "id": "initial_id",
   "metadata": {
    "collapsed": true
   },
   "outputs": [],
   "source": [
    "import sys\n",
    "string = sys.stdin.readline().rstrip('\\n')\n",
    "start = False\n",
    "result = ''\n",
    "idx = 0\n",
    "temp = ''\n",
    "while idx < len(string):\n",
    "    s = string[idx]\n",
    "    idx+=1\n",
    "    if s == '<' :\n",
    "        start = True\n",
    "        result += temp[::-1]\n",
    "        temp = ''\n",
    "        result += s\n",
    "        temp = ''\n",
    "        continue\n",
    "    elif s == '>' :\n",
    "        start = False\n",
    "        temp+=s\n",
    "        result += temp\n",
    "        temp = ''\n",
    "        continue\n",
    "    elif not start and s == ' ':\n",
    "        result += (temp[::-1]+' ')\n",
    "        temp = ''\n",
    "        if idx == len(string) :\n",
    "            break\n",
    "    elif not start and s != ' ':\n",
    "        temp+=s\n",
    "        if idx == len(string):\n",
    "            result+=temp[::-1]\n",
    "            break\n",
    "    else:\n",
    "        temp+=s\n",
    "\n",
    "print(result)"
   ]
  },
  {
   "cell_type": "markdown",
   "source": [
    "<h1>쇠막대기</h1>"
   ],
   "metadata": {
    "collapsed": false
   },
   "id": "b3d05671105b675d"
  },
  {
   "cell_type": "code",
   "execution_count": 2,
   "outputs": [
    {
     "name": "stdout",
     "output_type": "stream",
     "text": []
    }
   ],
   "source": [
    "import sys\n",
    "string = sys.stdin.readline()\n",
    "rasers = []\n",
    "stack = []\n",
    "total = 0\n",
    "lines = 0\n",
    "for idx, s in enumerate(string):\n",
    "    if idx > 1 and idx - 1 in rasers:\n",
    "        continue\n",
    "    if s == '(':\n",
    "        if string[idx + 1] == ')':\n",
    "            rasers.append(idx)\n",
    "            total += len(stack)\n",
    "        else:\n",
    "            stack.append('(')\n",
    "            lines+=1\n",
    "    else:\n",
    "        if len(stack) != 0:\n",
    "            stack.pop(-1)\n",
    "\n",
    "print(total+lines)"
   ],
   "metadata": {
    "collapsed": false,
    "ExecuteTime": {
     "end_time": "2024-01-26T06:18:09.325562Z",
     "start_time": "2024-01-26T06:18:09.316032Z"
    }
   },
   "id": "ab1c4a22efb2eaa2"
  },
  {
   "cell_type": "markdown",
   "source": [
    "<h1>오큰수</h1>"
   ],
   "metadata": {
    "collapsed": false
   },
   "id": "ba238046731fdfbf"
  },
  {
   "cell_type": "code",
   "execution_count": null,
   "outputs": [],
   "source": [
    "_ = int(input())\n",
    "import sys\n",
    "nums = list(map(int,sys.stdin.readline().split()))\n",
    "result = [ (-1,-1) for i in range(len(nums))]\n",
    "for idx in range(len(nums)-2,-1,-1):\n",
    "    if nums[idx] < nums[idx+1] :\n",
    "        result[idx] = (idx+1,nums[idx+1])\n",
    "    else: #일단 바로 오른쪽거보다는 큰 상황 ex 15 10\n",
    "        idx1 = idx+1\n",
    "        while True :\n",
    "            if result[idx1][1] == -1 :\n",
    "                result[idx] = (idx,-1)\n",
    "                break\n",
    "            else:\n",
    "                if nums[result[idx1][0]] > nums[idx] :\n",
    "                    result[idx] = (result[idx1][0],nums[result[idx1][0]])\n",
    "                    break\n",
    "                else:\n",
    "                    idx1 = result[idx1][0]\n",
    "for i in result:\n",
    "    print(i[1],end=' ')"
   ],
   "metadata": {
    "collapsed": false
   },
   "id": "b2dddbfd8494a9b8"
  },
  {
   "cell_type": "markdown",
   "source": [
    "<h1>오등큰수</h1>"
   ],
   "metadata": {
    "collapsed": false
   },
   "id": "bc73e91d570e07cd"
  },
  {
   "cell_type": "code",
   "execution_count": null,
   "outputs": [],
   "source": [
    "from collections import Counter\n",
    "import sys\n",
    "\n",
    "_ = int(input())\n",
    "nums = list(map(int, sys.stdin.readline().split()))\n",
    "count = Counter(nums)\n",
    "result = [None for i in range(len(nums))]\n",
    "result[-1] = (-1, -1)\n",
    "for idx in range(len(nums) - 2, -1, -1):\n",
    "    if count[nums[idx]] < count[nums[idx + 1]]:\n",
    "        result[idx] = (idx + 1, count[nums[idx + 1]])\n",
    "    else:\n",
    "        idx1 = idx + 1\n",
    "        while True:\n",
    "            if result[idx1][1] == -1:\n",
    "                result[idx] = (idx, -1)\n",
    "                break\n",
    "            else:\n",
    "                if count[nums[result[idx1][0]]] > count[idx]:\n",
    "                    result[idx] = (result[idx1][0], count[nums[result[idx1][0]]])\n",
    "                    break\n",
    "                else:\n",
    "                    idx1 = result[idx1][0]\n",
    "\n",
    "for i in result:\n",
    "    if i[1] == -1:\n",
    "        print(-1, end=' ')\n",
    "    else:\n",
    "        print(nums[i[0]], end=' ')\n",
    "\n"
   ],
   "metadata": {
    "collapsed": false
   },
   "id": "dafca6418f43be5"
  }
 ],
 "metadata": {
  "kernelspec": {
   "display_name": "Python 3",
   "language": "python",
   "name": "python3"
  },
  "language_info": {
   "codemirror_mode": {
    "name": "ipython",
    "version": 2
   },
   "file_extension": ".py",
   "mimetype": "text/x-python",
   "name": "python",
   "nbconvert_exporter": "python",
   "pygments_lexer": "ipython2",
   "version": "2.7.6"
  }
 },
 "nbformat": 4,
 "nbformat_minor": 5
}
