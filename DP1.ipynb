{
 "cells": [
  {
   "cell_type": "markdown",
   "source": [
    "1로만들기"
   ],
   "metadata": {
    "collapsed": false
   },
   "id": "d43e8c426860fa42"
  },
  {
   "cell_type": "code",
   "execution_count": null,
   "id": "initial_id",
   "metadata": {
    "collapsed": true
   },
   "outputs": [],
   "source": [
    "#연산\n",
    "import sys\n",
    "from collections import defaultdict\n",
    "from copy import deepcopy\n",
    "import math\n",
    "n = int(sys.stdin.readline())\n",
    "def compute(n):\n",
    "    if n % 3 == 0 :\n",
    "        n //= 3\n",
    "    elif n %2 == 0 :\n",
    "        n //= 2\n",
    "    else:\n",
    "        n -=1\n",
    "    return n\n",
    "start = 1\n",
    "count = defaultdict(lambda: math.inf)\n",
    "count[start] = 0\n",
    "if n == 1 :\n",
    "    print(0)\n",
    "else:\n",
    "    while start <= n :\n",
    "        count[start*2] = min(count[start]+1, count[start*2])\n",
    "        count[start*3] = min(count[start]+1, count[start*3])\n",
    "        count[start+1] = min(count[start]+1, count[start+1])\n",
    "        start+=1\n",
    "    print(count[n])\n"
   ]
  },
  {
   "cell_type": "markdown",
   "source": [
    "타일1"
   ],
   "metadata": {
    "collapsed": false
   },
   "id": "ec6979eabbaade01"
  },
  {
   "cell_type": "code",
   "execution_count": null,
   "outputs": [],
   "source": [
    "#타일 1\n",
    "from collections import defaultdict\n",
    "n = int(input())\n",
    "count = defaultdict(int)\n",
    "count[1] = 1\n",
    "count[2] = 2\n",
    "start = 3\n",
    "while start <= n :\n",
    "    count[start]  = count[start-2] + count[start-1]\n",
    "    start+=1\n",
    "print(count[n]%10007)"
   ],
   "metadata": {
    "collapsed": false
   },
   "id": "ff7f43131d15896c"
  },
  {
   "cell_type": "markdown",
   "source": [
    "타일2**"
   ],
   "metadata": {
    "collapsed": false
   },
   "id": "231067a9f03d5e4e"
  },
  {
   "cell_type": "code",
   "execution_count": 5,
   "outputs": [
    {
     "name": "stdout",
     "output_type": "stream",
     "text": [
      "171\n"
     ]
    }
   ],
   "source": [
    "#타일 1\n",
    "from collections import defaultdict\n",
    "n = int(input())\n",
    "count = defaultdict(int)\n",
    "count[1] = 1\n",
    "count[2] = 3\n",
    "start = 3\n",
    "while start <= n :\n",
    "    count[start]  = count[start-2]*2 + count[start-1]\n",
    "    start+=1\n",
    "print(count[n]%10007)"
   ],
   "metadata": {
    "collapsed": false,
    "ExecuteTime": {
     "end_time": "2024-02-16T09:23:49.477816Z",
     "start_time": "2024-02-16T09:23:48.261480Z"
    }
   },
   "id": "d86aa830f29936ad"
  },
  {
   "cell_type": "markdown",
   "source": [
    "1,2,3 더하기"
   ],
   "metadata": {
    "collapsed": false
   },
   "id": "c57d1efeeeb79fef"
  },
  {
   "cell_type": "code",
   "execution_count": null,
   "outputs": [],
   "source": [
    "\n",
    "import sys\n",
    "from collections import defaultdict\n",
    "\n",
    "counts = defaultdict(int)\n",
    "counts[1]=1\n",
    "counts[2]=2\n",
    "counts[3]=4\n",
    "\n",
    "C = int(input())\n",
    "nums = []\n",
    "for c in range(C):\n",
    "    num = int(sys.stdin.readline())\n",
    "    nums.append(num)\n",
    "m = max(nums)\n",
    "for n in range(4,m+1):\n",
    "    counts[n] = counts[n-3]+counts[n-2]+counts[n-1]\n",
    "for num in nums:\n",
    "    print(counts[num])\n"
   ],
   "metadata": {
    "collapsed": false
   },
   "id": "7bf37266c3c96c3c"
  },
  {
   "cell_type": "markdown",
   "source": [
    "카드1"
   ],
   "metadata": {
    "collapsed": false
   },
   "id": "221a5ed2a0e8f6e9"
  },
  {
   "cell_type": "code",
   "execution_count": null,
   "outputs": [],
   "source": [
    "import sys\n",
    "from collections import defaultdict\n",
    "n = int(sys.stdin.readline())\n",
    "nums = [0] + list(map(int,sys.stdin.readline().split()))\n",
    "\n",
    "result = defaultdict(int)\n",
    "for idx,num in enumerate(nums) : \n",
    "    result[idx+1] = num\n",
    "for i in range(1,n+1):\n",
    "    for j,num in enumerate(nums) : \n",
    "        idx = j + 1\n",
    "        try:\n",
    "            result[i] = max(result[i],result[i-idx]+num)\n",
    "        except:\n",
    "            continue\n",
    "print(nums[n])"
   ],
   "metadata": {
    "collapsed": false
   },
   "id": "13b44d84b9f67b86"
  },
  {
   "cell_type": "markdown",
   "source": [
    "카드 2"
   ],
   "metadata": {
    "collapsed": false
   },
   "id": "84b24fc75457ec84"
  },
  {
   "cell_type": "code",
   "execution_count": null,
   "outputs": [],
   "source": [
    "import sys\n",
    "from collections import defaultdict\n",
    "import math\n",
    "n = int(sys.stdin.readline())\n",
    "nums = [0] + list(map(int,sys.stdin.readline().split()))\n",
    "\n",
    "result = defaultdict(lambda:math.inf)\n",
    "for idx,num in enumerate(nums) : \n",
    "    result[idx] = num\n",
    "for i in range(2,n+1):\n",
    "    for j,num in enumerate(nums) : \n",
    "        idx = j\n",
    "        if i - idx >= 1 :\n",
    "            result[i] = min(result[i],result[i-idx]+num)\n",
    "\n",
    "print(result[n])"
   ],
   "metadata": {
    "collapsed": false
   },
   "id": "d38ace2ea44b7143"
  },
  {
   "cell_type": "markdown",
   "source": [
    "123 더하기 (5)"
   ],
   "metadata": {
    "collapsed": false
   },
   "id": "210e8cba803f97a2"
  },
  {
   "cell_type": "code",
   "execution_count": null,
   "outputs": [],
   "source": [
    "import sys\n",
    "\n",
    "print = sys.stdout.write\n",
    "C = int(input())\n",
    "\n",
    "nums = [0]*C\n",
    "for c in range(C):\n",
    "    nums[c] = int(sys.stdin.readline())\n",
    "\n",
    "mx = max(nums)\n",
    "\n",
    "ones = [0]*(mx+1)\n",
    "twos = [0]*(mx+1)\n",
    "threes = [0]*(mx+1)\n",
    "\n",
    "ones[1] = 1\n",
    "twos[2] = 1\n",
    "threes[3] = 1\n",
    "ones[3] = 1\n",
    "twos[3] = 1\n",
    "\n",
    "\n",
    "for i in range(4,mx+1):\n",
    "    #정수 연산시 정수값이 너무 커지면 자료형이 바뀌거나 그래서 연산이 많이 느려지는 것 같다. \n",
    "    ones[i] = (twos[i-1]+threes[i-1])%1000000009\n",
    "    twos[i] = (ones[i-2]+threes[i-2])%1000000009\n",
    "    threes[i] = (ones[i-3]+twos[i-3])%1000000009\n",
    "\n",
    "for num in nums:\n",
    "    print(str(int(ones[num]+twos[num]+threes[num])%1000000009)+'\\n')"
   ],
   "metadata": {
    "collapsed": false
   },
   "id": "414d07491a201fbf"
  },
  {
   "cell_type": "markdown",
   "source": [
    "계단수"
   ],
   "metadata": {
    "collapsed": false
   },
   "id": "c3658ac4a659326e"
  },
  {
   "cell_type": "code",
   "execution_count": null,
   "outputs": [],
   "source": [
    "#계단수\n",
    "import sys\n",
    "from collections import defaultdict\n",
    "\n",
    "n = int(sys.stdin.readline())\n",
    "result = [[1 for i in range(10)]] #한자리\n",
    "result[0][0] = 0\n",
    "\n",
    "result.append(\n",
    "    [ 2 for i in range(10)] #두자리\n",
    ")\n",
    "result[-1][0]=1\n",
    "result[-1][1] = 1\n",
    "result[-1][9]=1\n",
    "\n",
    "for i in range(2,n) :\n",
    "    result.append(\n",
    "        defaultdict(int)\n",
    "    )\n",
    "    for i in range(1,9):\n",
    "        result[-1][i] = result[-2][i-1]+result[-2][i+1]\n",
    "    result[-1][0] = result[-2][1]\n",
    "    result[-1][9] = result[-2][8]\n",
    "\n",
    "if n == 2:\n",
    "    print(17)\n",
    "elif n == 1 :\n",
    "    print(9)\n",
    "else:\n",
    "    out = 0\n",
    "    for i,v in result[-1].items():\n",
    "        out+=v\n",
    "    print(out%1000000000)"
   ],
   "metadata": {
    "collapsed": false
   },
   "id": "a6db3d71c51e5a0e"
  },
  {
   "cell_type": "markdown",
   "source": [
    "이친수"
   ],
   "metadata": {
    "collapsed": false
   },
   "id": "520f67000a6b8cb1"
  },
  {
   "cell_type": "code",
   "execution_count": null,
   "outputs": [],
   "source": [
    "#이친수\n",
    "n = int(input())\n",
    "from collections import defaultdict\n",
    "count_one = defaultdict(int)\n",
    "count_zero = defaultdict(int)\n",
    "count_one[1] = 1\n",
    "count_zero[1] = 0\n",
    "# 전의 1의 개수 1개 + 0의 개수 * 2개\n",
    "for i in range(2,n+1):\n",
    "    count_one[i] = count_zero[i-1]\n",
    "    count_zero[i] = count_one[i-1] + count_zero[i-1]\n",
    "    \n",
    "print(count_one[n]+count_zero[n])\n"
   ],
   "metadata": {
    "collapsed": false
   },
   "id": "f06990be25cb490a"
  },
  {
   "cell_type": "markdown",
   "source": [
    "가장 긴 증가하는 부분수열 **"
   ],
   "metadata": {
    "collapsed": false
   },
   "id": "6c103049611f8591"
  },
  {
   "cell_type": "code",
   "execution_count": null,
   "outputs": [],
   "source": [
    "from collections import defaultdict\n",
    "import sys\n",
    "_ = input()\n",
    "nums = list(map(int,sys.stdin.readline().split()))\n",
    "\n",
    "count = [ 0 ] * len(nums)\n",
    "count[0] = 1\n",
    "for i in range(1,len(nums)):\n",
    "    temp = []\n",
    "    for j in range(i):\n",
    "        if nums[j] < nums[i] :\n",
    "            temp.append(count[j])\n",
    "    if len(temp) == 0 :\n",
    "        mx = 0\n",
    "    else:\n",
    "        mx = max(temp)\n",
    "    count[i] = mx +1\n",
    "    \n",
    "print(max(count))"
   ],
   "metadata": {
    "collapsed": false
   },
   "id": "7c01f387559ff9c9"
  },
  {
   "cell_type": "markdown",
   "source": [
    "가장 긴 증가하는 부분수열 4"
   ],
   "metadata": {
    "collapsed": false
   },
   "id": "aba60caef4f1b1a"
  },
  {
   "cell_type": "code",
   "execution_count": null,
   "outputs": [],
   "source": [
    "from collections import defaultdict\n",
    "import sys\n",
    "_ = input()\n",
    "nums = list(map(int,sys.stdin.readline().split()))\n",
    "\n",
    "count = [ 0 ] * len(nums)\n",
    "count[0] = 1\n",
    "results = [[] for i in range(len(nums))]\n",
    "\n",
    "results[0]=[nums[0]]\n",
    "\n",
    "for i in range(1,len(nums)):\n",
    "    temp = []\n",
    "    for j in range(i):\n",
    "        if nums[j] < nums[i] :\n",
    "            temp.append(j)\n",
    "    if len(temp) == 0 :\n",
    "        mx=i\n",
    "    else:\n",
    "        mx = max(temp,key= lambda x : count[x])\n",
    "    count[i] = count[mx] +1\n",
    "    results[i] = results[mx] + [nums[i]]\n",
    "\n",
    "result = max(results, key=lambda x : len(x))\n",
    "print(len(result))\n",
    "for num in result:\n",
    "    print(num, end=' ')"
   ],
   "metadata": {
    "collapsed": false
   },
   "id": "54fce372a7c16a2d"
  },
  {
   "cell_type": "markdown",
   "source": [
    "연속합 "
   ],
   "metadata": {
    "collapsed": false
   },
   "id": "5e1724926d6a9cff"
  },
  {
   "cell_type": "code",
   "execution_count": null,
   "outputs": [],
   "source": [
    "import sys\n",
    "n=int(input())\n",
    "nums = list(map(int,sys.stdin.readline().split()))\n",
    "\n",
    "results = [ 0 ] * n\n",
    "results[0] = nums[0]\n",
    "for i in range(1, len(nums)):\n",
    "    results[i] = max(results[i-1]+nums[i],nums[i])\n",
    "print(max(results))"
   ],
   "metadata": {
    "collapsed": false,
    "ExecuteTime": {
     "end_time": "2024-02-19T05:05:10.115376Z",
     "start_time": "2024-02-19T05:05:10.109075Z"
    }
   },
   "id": "6d076b6e5caa408"
  },
  {
   "cell_type": "markdown",
   "source": [
    "제곱수의 합"
   ],
   "metadata": {
    "collapsed": false
   },
   "id": "d189a9b169b0228d"
  },
  {
   "cell_type": "code",
   "execution_count": null,
   "outputs": [],
   "source": [
    "import sys\n",
    "import math\n",
    "\n",
    "n = int(sys.stdin.readline())\n",
    "powers = [ i*i for i in range(1,int(math.sqrt(n)+1))]\n",
    "results = [math.inf]*(n+1)\n",
    "for p in powers :\n",
    "    results[p] =1\n",
    "\n",
    "for i in range(2,n+1):\n",
    "    if results[i] == 1:\n",
    "        continue\n",
    "    else:\n",
    "        temp = []\n",
    "        for p in powers :\n",
    "            if i-p >= 1:\n",
    "                temp.append(results[i-p])\n",
    "            else:\n",
    "                break\n",
    "        results[i] = min(temp)+1\n",
    "print(results[n])"
   ],
   "metadata": {
    "collapsed": false,
    "ExecuteTime": {
     "end_time": "2024-02-19T05:05:10.115762Z",
     "start_time": "2024-02-19T05:05:10.113937Z"
    }
   },
   "id": "5b27c6dd1c6c4e64"
  },
  {
   "cell_type": "markdown",
   "source": [
    "합분해 **"
   ],
   "metadata": {
    "collapsed": false
   },
   "id": "396191833646ec37"
  },
  {
   "cell_type": "code",
   "execution_count": null,
   "outputs": [],
   "source": [
    "import sys\n",
    "n,k = tuple(map(int,sys.stdin.readline().split()))\n",
    "result = [0]*(n+1)\n",
    "#k부터 시작해야함 \n",
    "\n",
    "for i in range(k,n+1):\n",
    "    for j in range(1,i):\n",
    "        result[i]+=result[i-j]*k\n",
    "print(result[n])"
   ],
   "metadata": {
    "collapsed": false
   },
   "id": "abced3378aa7b397"
  }
 ],
 "metadata": {
  "kernelspec": {
   "display_name": "Python 3",
   "language": "python",
   "name": "python3"
  },
  "language_info": {
   "codemirror_mode": {
    "name": "ipython",
    "version": 2
   },
   "file_extension": ".py",
   "mimetype": "text/x-python",
   "name": "python",
   "nbconvert_exporter": "python",
   "pygments_lexer": "ipython2",
   "version": "2.7.6"
  }
 },
 "nbformat": 4,
 "nbformat_minor": 5
}
