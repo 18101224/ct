{
 "cells": [
  {
   "cell_type": "code",
   "execution_count": null,
   "id": "initial_id",
   "metadata": {
    "collapsed": true
   },
   "outputs": [],
   "source": [
    "#연산\n",
    "import sys\n",
    "from collections import defaultdict\n",
    "from copy import deepcopy\n",
    "import math\n",
    "n = int(sys.stdin.readline())\n",
    "def compute(n):\n",
    "    if n % 3 == 0 :\n",
    "        n //= 3\n",
    "    elif n %2 == 0 :\n",
    "        n //= 2\n",
    "    else:\n",
    "        n -=1\n",
    "    return n\n",
    "start = 1\n",
    "count = defaultdict(lambda: math.inf)\n",
    "count[start] = 0\n",
    "if n == 1 :\n",
    "    print(0)\n",
    "else:\n",
    "    while start <= n :\n",
    "        count[start*2] = min(count[start]+1, count[start*2])\n",
    "        count[start*3] = min(count[start]+1, count[start*3])\n",
    "        count[start+1] = min(count[start]+1, count[start+1])\n",
    "        start+=1\n",
    "    print(count[n])\n"
   ]
  },
  {
   "cell_type": "code",
   "execution_count": null,
   "outputs": [],
   "source": [
    "#타일 1\n",
    "from collections import defaultdict\n",
    "n = int(input())\n",
    "count = defaultdict(int)\n",
    "count[1] = 1\n",
    "count[2] = 2\n",
    "start = 3\n",
    "while start <= n :\n",
    "    count[start]  = count[start-2] + count[start-1]\n",
    "    start+=1\n",
    "print(count[n]%10007)"
   ],
   "metadata": {
    "collapsed": false
   },
   "id": "ff7f43131d15896c"
  },
  {
   "cell_type": "code",
   "execution_count": 5,
   "outputs": [
    {
     "name": "stdout",
     "output_type": "stream",
     "text": [
      "171\n"
     ]
    }
   ],
   "source": [
    "#타일 1\n",
    "from collections import defaultdict\n",
    "n = int(input())\n",
    "count = defaultdict(int)\n",
    "count[1] = 1\n",
    "count[2] = 3\n",
    "start = 3\n",
    "while start <= n :\n",
    "    count[start]  = count[start-2]*2 + count[start-1]\n",
    "    start+=1\n",
    "print(count[n]%10007)"
   ],
   "metadata": {
    "collapsed": false,
    "ExecuteTime": {
     "end_time": "2024-02-16T09:23:49.477816Z",
     "start_time": "2024-02-16T09:23:48.261480Z"
    }
   },
   "id": "d86aa830f29936ad"
  },
  {
   "cell_type": "code",
   "execution_count": null,
   "outputs": [],
   "source": [
    "\n",
    "import sys\n",
    "from collections import defaultdict\n",
    "\n",
    "counts = defaultdict(int)\n",
    "counts[1]=1\n",
    "counts[2]=2\n",
    "counts[3]=4\n",
    "\n",
    "C = int(input())\n",
    "nums = []\n",
    "for c in range(C):\n",
    "    num = int(sys.stdin.readline())\n",
    "    nums.append(num)\n",
    "m = max(nums)\n",
    "for n in range(4,m+1):\n",
    "    counts[n] = counts[n-3]+counts[n-2]+counts[n-1]\n",
    "for num in nums:\n",
    "    print(counts[num])\n"
   ],
   "metadata": {
    "collapsed": false
   },
   "id": "7bf37266c3c96c3c"
  },
  {
   "cell_type": "code",
   "execution_count": null,
   "outputs": [],
   "source": [
    "import sys\n",
    "from collections import defaultdict\n",
    "n = int(sys.stdin.readline())\n",
    "nums = [0] + list(map(int,sys.stdin.readline().split()))\n",
    "\n",
    "result = defaultdict(int)\n",
    "for idx,num in enumerate(nums) : \n",
    "    result[idx+1] = num\n",
    "for i in range(1,n+1):\n",
    "    for j,num in enumerate(nums) : \n",
    "        idx = j + 1\n",
    "        try:\n",
    "            result[i] = max(result[i],result[i-idx]+num)\n",
    "        except:\n",
    "            continue\n",
    "print(nums[n])"
   ],
   "metadata": {
    "collapsed": false
   },
   "id": "13b44d84b9f67b86"
  },
  {
   "cell_type": "code",
   "execution_count": null,
   "outputs": [],
   "source": [
    "import sys\n",
    "from collections import defaultdict\n",
    "import math\n",
    "n = int(sys.stdin.readline())\n",
    "nums = [0] + list(map(int,sys.stdin.readline().split()))\n",
    "\n",
    "result = defaultdict(lambda:math.inf)\n",
    "for idx,num in enumerate(nums) : \n",
    "    result[idx] = num\n",
    "for i in range(2,n+1):\n",
    "    for j,num in enumerate(nums) : \n",
    "        idx = j\n",
    "        if i - idx >= 1 :\n",
    "            result[i] = min(result[i],result[i-idx]+num)\n",
    "\n",
    "print(result[n])"
   ],
   "metadata": {
    "collapsed": false
   },
   "id": "d38ace2ea44b7143"
  },
  {
   "cell_type": "code",
   "execution_count": 8,
   "outputs": [],
   "source": [
    "#계단\n",
    "n1 = [ str(i) for i in range(1,10)]\n",
    "n2 = [ n1[i] + str(j) for j in range(0,10) for i in range(len(n1))]\n",
    "n3 = [ n2[i] + str(k) for k in range(0,10) for i in range(len(n2))]"
   ],
   "metadata": {
    "collapsed": false,
    "ExecuteTime": {
     "end_time": "2024-02-16T12:14:12.836075Z",
     "start_time": "2024-02-16T12:14:12.831849Z"
    }
   },
   "id": "7b33504db49a7008"
  },
  {
   "cell_type": "code",
   "execution_count": 13,
   "outputs": [
    {
     "name": "stdout",
     "output_type": "stream",
     "text": [
      "32\n"
     ]
    }
   ],
   "source": [
    "def check(string):\n",
    "    for i in range(1,3):\n",
    "        if abs(int(string[i-1])-int(string[i])) != 1:\n",
    "            return False\n",
    "    return True\n",
    "count = 0 \n",
    "for st in n3:\n",
    "    if check(st) :\n",
    "        count+=1\n",
    "print(count)"
   ],
   "metadata": {
    "collapsed": false,
    "ExecuteTime": {
     "end_time": "2024-02-16T12:16:24.783973Z",
     "start_time": "2024-02-16T12:16:24.778890Z"
    }
   },
   "id": "33b81d1eddc0fb62"
  },
  {
   "cell_type": "code",
   "execution_count": 14,
   "outputs": [
    {
     "data": {
      "text/plain": "['100',\n '200',\n '300',\n '400',\n '500',\n '600',\n '700',\n '800',\n '900',\n '110',\n '210',\n '310',\n '410',\n '510',\n '610',\n '710',\n '810',\n '910',\n '120',\n '220',\n '320',\n '420',\n '520',\n '620',\n '720',\n '820',\n '920',\n '130',\n '230',\n '330',\n '430',\n '530',\n '630',\n '730',\n '830',\n '930',\n '140',\n '240',\n '340',\n '440',\n '540',\n '640',\n '740',\n '840',\n '940',\n '150',\n '250',\n '350',\n '450',\n '550',\n '650',\n '750',\n '850',\n '950',\n '160',\n '260',\n '360',\n '460',\n '560',\n '660',\n '760',\n '860',\n '960',\n '170',\n '270',\n '370',\n '470',\n '570',\n '670',\n '770',\n '870',\n '970',\n '180',\n '280',\n '380',\n '480',\n '580',\n '680',\n '780',\n '880',\n '980',\n '190',\n '290',\n '390',\n '490',\n '590',\n '690',\n '790',\n '890',\n '990',\n '101',\n '201',\n '301',\n '401',\n '501',\n '601',\n '701',\n '801',\n '901',\n '111',\n '211',\n '311',\n '411',\n '511',\n '611',\n '711',\n '811',\n '911',\n '121',\n '221',\n '321',\n '421',\n '521',\n '621',\n '721',\n '821',\n '921',\n '131',\n '231',\n '331',\n '431',\n '531',\n '631',\n '731',\n '831',\n '931',\n '141',\n '241',\n '341',\n '441',\n '541',\n '641',\n '741',\n '841',\n '941',\n '151',\n '251',\n '351',\n '451',\n '551',\n '651',\n '751',\n '851',\n '951',\n '161',\n '261',\n '361',\n '461',\n '561',\n '661',\n '761',\n '861',\n '961',\n '171',\n '271',\n '371',\n '471',\n '571',\n '671',\n '771',\n '871',\n '971',\n '181',\n '281',\n '381',\n '481',\n '581',\n '681',\n '781',\n '881',\n '981',\n '191',\n '291',\n '391',\n '491',\n '591',\n '691',\n '791',\n '891',\n '991',\n '102',\n '202',\n '302',\n '402',\n '502',\n '602',\n '702',\n '802',\n '902',\n '112',\n '212',\n '312',\n '412',\n '512',\n '612',\n '712',\n '812',\n '912',\n '122',\n '222',\n '322',\n '422',\n '522',\n '622',\n '722',\n '822',\n '922',\n '132',\n '232',\n '332',\n '432',\n '532',\n '632',\n '732',\n '832',\n '932',\n '142',\n '242',\n '342',\n '442',\n '542',\n '642',\n '742',\n '842',\n '942',\n '152',\n '252',\n '352',\n '452',\n '552',\n '652',\n '752',\n '852',\n '952',\n '162',\n '262',\n '362',\n '462',\n '562',\n '662',\n '762',\n '862',\n '962',\n '172',\n '272',\n '372',\n '472',\n '572',\n '672',\n '772',\n '872',\n '972',\n '182',\n '282',\n '382',\n '482',\n '582',\n '682',\n '782',\n '882',\n '982',\n '192',\n '292',\n '392',\n '492',\n '592',\n '692',\n '792',\n '892',\n '992',\n '103',\n '203',\n '303',\n '403',\n '503',\n '603',\n '703',\n '803',\n '903',\n '113',\n '213',\n '313',\n '413',\n '513',\n '613',\n '713',\n '813',\n '913',\n '123',\n '223',\n '323',\n '423',\n '523',\n '623',\n '723',\n '823',\n '923',\n '133',\n '233',\n '333',\n '433',\n '533',\n '633',\n '733',\n '833',\n '933',\n '143',\n '243',\n '343',\n '443',\n '543',\n '643',\n '743',\n '843',\n '943',\n '153',\n '253',\n '353',\n '453',\n '553',\n '653',\n '753',\n '853',\n '953',\n '163',\n '263',\n '363',\n '463',\n '563',\n '663',\n '763',\n '863',\n '963',\n '173',\n '273',\n '373',\n '473',\n '573',\n '673',\n '773',\n '873',\n '973',\n '183',\n '283',\n '383',\n '483',\n '583',\n '683',\n '783',\n '883',\n '983',\n '193',\n '293',\n '393',\n '493',\n '593',\n '693',\n '793',\n '893',\n '993',\n '104',\n '204',\n '304',\n '404',\n '504',\n '604',\n '704',\n '804',\n '904',\n '114',\n '214',\n '314',\n '414',\n '514',\n '614',\n '714',\n '814',\n '914',\n '124',\n '224',\n '324',\n '424',\n '524',\n '624',\n '724',\n '824',\n '924',\n '134',\n '234',\n '334',\n '434',\n '534',\n '634',\n '734',\n '834',\n '934',\n '144',\n '244',\n '344',\n '444',\n '544',\n '644',\n '744',\n '844',\n '944',\n '154',\n '254',\n '354',\n '454',\n '554',\n '654',\n '754',\n '854',\n '954',\n '164',\n '264',\n '364',\n '464',\n '564',\n '664',\n '764',\n '864',\n '964',\n '174',\n '274',\n '374',\n '474',\n '574',\n '674',\n '774',\n '874',\n '974',\n '184',\n '284',\n '384',\n '484',\n '584',\n '684',\n '784',\n '884',\n '984',\n '194',\n '294',\n '394',\n '494',\n '594',\n '694',\n '794',\n '894',\n '994',\n '105',\n '205',\n '305',\n '405',\n '505',\n '605',\n '705',\n '805',\n '905',\n '115',\n '215',\n '315',\n '415',\n '515',\n '615',\n '715',\n '815',\n '915',\n '125',\n '225',\n '325',\n '425',\n '525',\n '625',\n '725',\n '825',\n '925',\n '135',\n '235',\n '335',\n '435',\n '535',\n '635',\n '735',\n '835',\n '935',\n '145',\n '245',\n '345',\n '445',\n '545',\n '645',\n '745',\n '845',\n '945',\n '155',\n '255',\n '355',\n '455',\n '555',\n '655',\n '755',\n '855',\n '955',\n '165',\n '265',\n '365',\n '465',\n '565',\n '665',\n '765',\n '865',\n '965',\n '175',\n '275',\n '375',\n '475',\n '575',\n '675',\n '775',\n '875',\n '975',\n '185',\n '285',\n '385',\n '485',\n '585',\n '685',\n '785',\n '885',\n '985',\n '195',\n '295',\n '395',\n '495',\n '595',\n '695',\n '795',\n '895',\n '995',\n '106',\n '206',\n '306',\n '406',\n '506',\n '606',\n '706',\n '806',\n '906',\n '116',\n '216',\n '316',\n '416',\n '516',\n '616',\n '716',\n '816',\n '916',\n '126',\n '226',\n '326',\n '426',\n '526',\n '626',\n '726',\n '826',\n '926',\n '136',\n '236',\n '336',\n '436',\n '536',\n '636',\n '736',\n '836',\n '936',\n '146',\n '246',\n '346',\n '446',\n '546',\n '646',\n '746',\n '846',\n '946',\n '156',\n '256',\n '356',\n '456',\n '556',\n '656',\n '756',\n '856',\n '956',\n '166',\n '266',\n '366',\n '466',\n '566',\n '666',\n '766',\n '866',\n '966',\n '176',\n '276',\n '376',\n '476',\n '576',\n '676',\n '776',\n '876',\n '976',\n '186',\n '286',\n '386',\n '486',\n '586',\n '686',\n '786',\n '886',\n '986',\n '196',\n '296',\n '396',\n '496',\n '596',\n '696',\n '796',\n '896',\n '996',\n '107',\n '207',\n '307',\n '407',\n '507',\n '607',\n '707',\n '807',\n '907',\n '117',\n '217',\n '317',\n '417',\n '517',\n '617',\n '717',\n '817',\n '917',\n '127',\n '227',\n '327',\n '427',\n '527',\n '627',\n '727',\n '827',\n '927',\n '137',\n '237',\n '337',\n '437',\n '537',\n '637',\n '737',\n '837',\n '937',\n '147',\n '247',\n '347',\n '447',\n '547',\n '647',\n '747',\n '847',\n '947',\n '157',\n '257',\n '357',\n '457',\n '557',\n '657',\n '757',\n '857',\n '957',\n '167',\n '267',\n '367',\n '467',\n '567',\n '667',\n '767',\n '867',\n '967',\n '177',\n '277',\n '377',\n '477',\n '577',\n '677',\n '777',\n '877',\n '977',\n '187',\n '287',\n '387',\n '487',\n '587',\n '687',\n '787',\n '887',\n '987',\n '197',\n '297',\n '397',\n '497',\n '597',\n '697',\n '797',\n '897',\n '997',\n '108',\n '208',\n '308',\n '408',\n '508',\n '608',\n '708',\n '808',\n '908',\n '118',\n '218',\n '318',\n '418',\n '518',\n '618',\n '718',\n '818',\n '918',\n '128',\n '228',\n '328',\n '428',\n '528',\n '628',\n '728',\n '828',\n '928',\n '138',\n '238',\n '338',\n '438',\n '538',\n '638',\n '738',\n '838',\n '938',\n '148',\n '248',\n '348',\n '448',\n '548',\n '648',\n '748',\n '848',\n '948',\n '158',\n '258',\n '358',\n '458',\n '558',\n '658',\n '758',\n '858',\n '958',\n '168',\n '268',\n '368',\n '468',\n '568',\n '668',\n '768',\n '868',\n '968',\n '178',\n '278',\n '378',\n '478',\n '578',\n '678',\n '778',\n '878',\n '978',\n '188',\n '288',\n '388',\n '488',\n '588',\n '688',\n '788',\n '888',\n '988',\n '198',\n '298',\n '398',\n '498',\n '598',\n '698',\n '798',\n '898',\n '998',\n '109',\n '209',\n '309',\n '409',\n '509',\n '609',\n '709',\n '809',\n '909',\n '119',\n '219',\n '319',\n '419',\n '519',\n '619',\n '719',\n '819',\n '919',\n '129',\n '229',\n '329',\n '429',\n '529',\n '629',\n '729',\n '829',\n '929',\n '139',\n '239',\n '339',\n '439',\n '539',\n '639',\n '739',\n '839',\n '939',\n '149',\n '249',\n '349',\n '449',\n '549',\n '649',\n '749',\n '849',\n '949',\n '159',\n '259',\n '359',\n '459',\n '559',\n '659',\n '759',\n '859',\n '959',\n '169',\n '269',\n '369',\n '469',\n '569',\n '669',\n '769',\n '869',\n '969',\n '179',\n '279',\n '379',\n '479',\n '579',\n '679',\n '779',\n '879',\n '979',\n '189',\n '289',\n '389',\n '489',\n '589',\n '689',\n '789',\n '889',\n '989',\n '199',\n '299',\n '399',\n '499',\n '599',\n '699',\n '799',\n '899',\n '999']"
     },
     "execution_count": 14,
     "metadata": {},
     "output_type": "execute_result"
    }
   ],
   "source": [
    "n3"
   ],
   "metadata": {
    "collapsed": false,
    "ExecuteTime": {
     "end_time": "2024-02-16T12:26:58.496503Z",
     "start_time": "2024-02-16T12:26:58.487730Z"
    }
   },
   "id": "d4d97c4cd2865bad"
  },
  {
   "cell_type": "code",
   "execution_count": null,
   "outputs": [],
   "source": [
    "#계단수\n",
    "import sys\n",
    "from collections import defaultdict\n",
    "\n",
    "n = int(sys.stdin.readline())\n",
    "result = [[1 for i in range(10)]] #한자리\n",
    "result[0][0] = 0\n",
    "\n",
    "result.append(\n",
    "    [ 2 for i in range(10)] #두자리\n",
    ")\n",
    "result[-1][0]=1\n",
    "result[-1][1] = 1\n",
    "result[-1][9]=1\n",
    "\n",
    "for i in range(2,n) :\n",
    "    result.append(\n",
    "        defaultdict(int)\n",
    "    )\n",
    "    for i in range(1,9):\n",
    "        result[-1][i] = result[-2][i-1]+result[-2][i+1]\n",
    "    result[-1][0] = result[-2][1]\n",
    "    result[-1][9] = result[-2][8]\n",
    "\n",
    "if n == 2:\n",
    "    print(17)\n",
    "elif n == 1 :\n",
    "    print(9)\n",
    "else:\n",
    "    out = 0\n",
    "    for i,v in result[-1].items():\n",
    "        out+=v\n",
    "    print(out%1000000000)"
   ],
   "metadata": {
    "collapsed": false
   },
   "id": "a6db3d71c51e5a0e"
  }
 ],
 "metadata": {
  "kernelspec": {
   "display_name": "Python 3",
   "language": "python",
   "name": "python3"
  },
  "language_info": {
   "codemirror_mode": {
    "name": "ipython",
    "version": 2
   },
   "file_extension": ".py",
   "mimetype": "text/x-python",
   "name": "python",
   "nbconvert_exporter": "python",
   "pygments_lexer": "ipython2",
   "version": "2.7.6"
  }
 },
 "nbformat": 4,
 "nbformat_minor": 5
}
