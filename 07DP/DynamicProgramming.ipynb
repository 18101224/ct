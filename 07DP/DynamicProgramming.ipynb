{
 "cells": [
  {
   "cell_type": "code",
   "execution_count": 35,
   "metadata": {},
   "outputs": [],
   "source": [
    "from collections import defaultdict\n",
    "import math"
   ]
  },
  {
   "attachments": {},
   "cell_type": "markdown",
   "metadata": {},
   "source": [
    "<h1>1로만들기</h1>"
   ]
  },
  {
   "cell_type": "code",
   "execution_count": 27,
   "metadata": {},
   "outputs": [
    {
     "name": "stdout",
     "output_type": "stream",
     "text": [
      "3\n"
     ]
    }
   ],
   "source": [
    "x = int(input())\n",
    "d = defaultdict(int)\n",
    "for i in range(2,x+1):\n",
    "    d[i] = d[i-1]+1\n",
    "    if i %2 ==0:\n",
    "        d[i] = min(d[i],d[i//2]+1)\n",
    "    if i%3 ==0:\n",
    "        d[i] = min(d[i],d[i//3]+1)\n",
    "    if i%5 ==0:\n",
    "        d[i] = min(d[i],d[i//5]+1)\n",
    "print(d[x])"
   ]
  },
  {
   "attachments": {},
   "cell_type": "markdown",
   "metadata": {},
   "source": [
    "<h1>개미전사</h1>"
   ]
  },
  {
   "cell_type": "code",
   "execution_count": 30,
   "metadata": {},
   "outputs": [
    {
     "name": "stdout",
     "output_type": "stream",
     "text": [
      "8\n"
     ]
    }
   ],
   "source": [
    "n = int(input())\n",
    "warehouse = list(map(int,input().split(' ')))\n",
    "what = defaultdict(int)\n",
    "what[0]=warehouse[0]\n",
    "what[1]=warehouse[1]\n",
    "for i in range(2,n):\n",
    "    what[i]=max(what[i-2]+warehouse[i],what[i-1])\n",
    "print(what[n-1])\n",
    "    "
   ]
  },
  {
   "attachments": {},
   "cell_type": "markdown",
   "metadata": {},
   "source": [
    "<h1>바닥 공사</h1>"
   ]
  },
  {
   "cell_type": "code",
   "execution_count": 34,
   "metadata": {},
   "outputs": [
    {
     "name": "stdout",
     "output_type": "stream",
     "text": [
      "5\n"
     ]
    }
   ],
   "source": [
    "n = int(input())\n",
    "c = defaultdict(int)\n",
    "c[1-1] = 1\n",
    "c[2-1] = 3\n",
    "for i in range(2,n):\n",
    "    c[i] = c[i-1]+c[i-2]*2\n",
    "print(c[n-1])"
   ]
  },
  {
   "attachments": {},
   "cell_type": "markdown",
   "metadata": {},
   "source": [
    "<h1>화폐 구성</h1>"
   ]
  },
  {
   "cell_type": "code",
   "execution_count": 46,
   "metadata": {},
   "outputs": [
    {
     "name": "stdout",
     "output_type": "stream",
     "text": [
      "5\n"
     ]
    }
   ],
   "source": [
    "n,m = map(int,input().split())\n",
    "coins = []\n",
    "d=defaultdict(lambda: math.inf)\n",
    "d[0]=0\n",
    "for i in range(n):\n",
    "    a = int(input())\n",
    "    d[a]=1\n",
    "    coins.append(a)\n",
    "for i in range(coins[0],m+1):\n",
    "    temp = []\n",
    "    for c in coins:\n",
    "        if i-c >=0:\n",
    "            temp.append(d[i-c]+1)\n",
    "    d[i] = min(temp)\n",
    "if d[m] == math.inf:\n",
    "    print(-1)\n",
    "else:\n",
    "    print(d[m])\n"
   ]
  }
 ],
 "metadata": {
  "kernelspec": {
   "display_name": "Python 3",
   "language": "python",
   "name": "python3"
  },
  "language_info": {
   "name": "python",
   "version": "3.10.9"
  },
  "orig_nbformat": 4
 },
 "nbformat": 4,
 "nbformat_minor": 2
}
