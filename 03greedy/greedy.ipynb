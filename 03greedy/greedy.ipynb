{
 "cells": [
  {
   "cell_type": "code",
   "execution_count": 2,
   "metadata": {},
   "outputs": [],
   "source": [
    "from collections import defaultdict\n",
    "import sys\n",
    "import math"
   ]
  },
  {
   "attachments": {},
   "cell_type": "markdown",
   "metadata": {},
   "source": [
    "<h2>예제1 거스름돈</h2>\n",
    "DP로 더 좋은 해를 구할수는 있지만 여기서는 탐욕알고리즘으로 해결하고자한다. ->큰 단위가 작은단위의 배수인 경우는 그리디를 사용해도된다. \n",
    "문제를 보았을때 해결방법이 딱히 떠오르지않는다면 그리디 알고리즘을 의심해보자 "
   ]
  },
  {
   "cell_type": "code",
   "execution_count": null,
   "metadata": {},
   "outputs": [],
   "source": [
    "#내가푼거\n",
    "N=1260\n",
    "#N=int(input())\n",
    "result = defaultdict(int) #거스름돈 configuration을 저장할 딕셔너리 \n",
    "coins = [10,50,100,500,1000,5000,10000] #거스름돈 종류 \n",
    "for coin in coins[::-1]:\n",
    "    if N//coin ==0:\n",
    "        continue\n",
    "    else:\n",
    "        Q = N//coin\n",
    "        result[str(coin)]=Q\n",
    "        N-=coin * Q"
   ]
  },
  {
   "cell_type": "code",
   "execution_count": null,
   "metadata": {},
   "outputs": [],
   "source": [
    "#답안\n",
    "n=1260\n",
    "coin_types = [500,100,50,10]\n",
    "count=0\n",
    "for coin in coin_types:\n",
    "    count+= n//coin #액수가 더 크면 알아서 카운트를 하지 않는다 \n",
    "    n = n%coin "
   ]
  },
  {
   "attachments": {},
   "cell_type": "markdown",
   "metadata": {},
   "source": [
    "<h1>실전문제1 큰 수의 법칙</h1>\n",
    "주어진 수열이 있고, 그 수열에 있는 숫자를 m번 뽑아서 뽑은 수의 합이 가장 크게 만든다. 여기서 조건은 같은숫자가 k번을 초과해서 나오면 안된다."
   ]
  },
  {
   "cell_type": "code",
   "execution_count": null,
   "metadata": {},
   "outputs": [],
   "source": [
    "(n,m,k) = tuple(map(int,input().split(' '))) #maximum = k\n",
    "numbers = list(map(int,sys.stdin.readline().split(' ')))\n",
    "count = 0\n",
    "result = 0\n",
    "#k+1 블럭으로 채워나간다고 생각\n",
    "block = numbers[-1]*k+numbers[-2]\n",
    "result = block*(m//(k+1)) + (m%(m//(k+1)))*numbers[-1]"
   ]
  },
  {
   "attachments": {},
   "cell_type": "markdown",
   "metadata": {},
   "source": [
    "<h1>실전문제2 숫자 카드 게임</h1>\n",
    "카드가 행렬형태로 주어져있고, 카드를 뽑으면 카드를 뽑는 그 행의 최솟값을 뽑게 돼있다. 여기서 카드를 뽑을 때 가능한 가장 높은수를 찾아라"
   ]
  },
  {
   "cell_type": "code",
   "execution_count": null,
   "metadata": {},
   "outputs": [],
   "source": [
    "(n,m) = tuple(map(int,input().split(' ')))\n",
    "minimum = math.inf\n",
    "for i in range(n):\n",
    "    local = min(list(map(int,sys.stdin.readline().split(' '))))\n",
    "    if local < minimum:\n",
    "        minimum=local\n",
    "print(minimum)"
   ]
  },
  {
   "attachments": {},
   "cell_type": "markdown",
   "metadata": {},
   "source": [
    "<h1>실전문제3 1이될때까지 </h1>"
   ]
  },
  {
   "cell_type": "code",
   "execution_count": null,
   "metadata": {},
   "outputs": [],
   "source": [
    "(n,k) = tuple(map(int,input().split(' ')))\n",
    "count=0\n",
    "while n%k==0:\n",
    "    n=(n//k)\n",
    "    count+=1\n",
    "while True:\n",
    "    n-=1\n",
    "    count+=1\n",
    "    if n==1:\n",
    "        break\n",
    "print(count)"
   ]
  }
 ],
 "metadata": {
  "kernelspec": {
   "display_name": "Python 3",
   "language": "python",
   "name": "python3"
  },
  "language_info": {
   "codemirror_mode": {
    "name": "ipython",
    "version": 3
   },
   "file_extension": ".py",
   "mimetype": "text/x-python",
   "name": "python",
   "nbconvert_exporter": "python",
   "pygments_lexer": "ipython3",
   "version": "3.9.6"
  },
  "orig_nbformat": 4
 },
 "nbformat": 4,
 "nbformat_minor": 2
}
