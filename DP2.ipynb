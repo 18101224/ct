{
 "cells": [
  {
   "cell_type": "markdown",
   "source": [
    "123 더하기 (4)"
   ],
   "metadata": {
    "collapsed": false
   },
   "id": "ad89f9e0b360a354"
  },
  {
   "cell_type": "code",
   "execution_count": null,
   "id": "initial_id",
   "metadata": {
    "collapsed": true
   },
   "outputs": [],
   "source": [
    "import sys\n",
    "C = int(input())\n",
    "nums = [0]*C\n",
    "for c in range(C):\n",
    "    nums[c] = int(sys.stdin.readline())\n",
    "mx = max(nums)\n",
    "result = [0]*(mx+1)\n",
    "result[1]=1\n",
    "result[2] = 2\n",
    "result[3] = 4\n",
    "for i in range(4,mx+1):\n",
    "    result[i] = result[i-1]%1000000009 + result[i-2]%1000000009 + result[i-3]%1000000009\n",
    "for num in nums:\n",
    "    print(result[num]%1000000009)"
   ]
  },
  {
   "cell_type": "markdown",
   "source": [
    "RGB **"
   ],
   "metadata": {
    "collapsed": false
   },
   "id": "7b5d7921bc987062"
  },
  {
   "cell_type": "code",
   "execution_count": null,
   "outputs": [],
   "source": [
    "#RGB\n",
    "import sys\n",
    "\n",
    "n = int(input())\n",
    "mab = [[]]\n",
    "for i in range(n):\n",
    "    mab.append(list(map(int,sys.stdin.readline().split())))\n",
    "result = [[1001 for j in range(3)] for i in range(n+1)]\n",
    "result[1] = mab[1]\n",
    "for i in range(2,n+1):\n",
    "    result[i][0] = min(result[i-1][1],result[i-1][2]) + mab[i][0]\n",
    "    result[i][1] = min(result[i-1][0],result[i-1][2]) + mab[i][1]\n",
    "    result[i][2] = min(result[i-1][0],result[i-1][1]) + mab[i][2]\n",
    "\n",
    "print(min(result[-1]))\n"
   ],
   "metadata": {
    "collapsed": false
   },
   "id": "df3a6ff1bc09de08"
  },
  {
   "cell_type": "markdown",
   "source": [
    "동물원 "
   ],
   "metadata": {
    "collapsed": false
   },
   "id": "fadfec876aed1741"
  },
  {
   "cell_type": "code",
   "execution_count": null,
   "outputs": [],
   "source": [
    "#zoo\n",
    "n = int(input())\n",
    "yes = [0]*(n+1)\n",
    "no = [0]*(n+1)\n",
    "yes[1] = 2\n",
    "no[1] = 1\n",
    "for i in range(2,n+1):\n",
    "    yes[i] = (no[i-1]*2 +yes[i-1])%9901\n",
    "    no[i] = (yes[i-1] + no[i-1])%9901\n",
    "print((yes[n]+no[n])%9901)"
   ],
   "metadata": {
    "collapsed": false
   },
   "id": "1e19ee53241b840d"
  }
 ],
 "metadata": {
  "kernelspec": {
   "display_name": "Python 3",
   "language": "python",
   "name": "python3"
  },
  "language_info": {
   "codemirror_mode": {
    "name": "ipython",
    "version": 2
   },
   "file_extension": ".py",
   "mimetype": "text/x-python",
   "name": "python",
   "nbconvert_exporter": "python",
   "pygments_lexer": "ipython2",
   "version": "2.7.6"
  }
 },
 "nbformat": 4,
 "nbformat_minor": 5
}
