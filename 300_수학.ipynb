{
 "cells": [
  {
   "cell_type": "code",
   "execution_count": null,
   "id": "initial_id",
   "metadata": {
    "collapsed": true
   },
   "outputs": [],
   "source": [
    "import sys\n",
    "A,B,C= tuple(map(int,sys.stdin.readline().split()))\n",
    "print((A+B)%C)\n",
    "print(((A%C) + (B%C))%C)\n",
    "print( (A*B)%C)\n",
    "print(((A%C) *(B%C))%C)"
   ]
  },
  {
   "cell_type": "code",
   "execution_count": null,
   "outputs": [],
   "source": [
    "import sys\n",
    "a,b = tuple(map(int,sys.stdin.readline().split()))\n",
    "if a < b :\n",
    "    a,b = b,a\n",
    "i = b \n",
    "while True:\n",
    "    if a % i == 0 and b % i == 0:\n",
    "        yak = i\n",
    "        break\n",
    "    else:\n",
    "        i-=1\n",
    "i = 1\n",
    "while True:\n",
    "    if (a * i) % b == 0:\n",
    "        bae = a*i\n",
    "        break\n",
    "    else:\n",
    "        i+=1\n",
    "\n",
    "print(yak)\n",
    "print(bae)"
   ],
   "metadata": {
    "collapsed": false
   },
   "id": "5a07826045283e7b"
  },
  {
   "cell_type": "code",
   "execution_count": null,
   "outputs": [],
   "source": [
    "import sys\n",
    "#pypy\n",
    "C = int(input())\n",
    "for c in range(C):\n",
    "    a,b = tuple(map(int,sys.stdin.readline().split()))\n",
    "    if a < b :\n",
    "        a,b = b,a\n",
    "    i = b \n",
    "    while True:\n",
    "        if a % i == 0 and b % i == 0:\n",
    "            yak = i\n",
    "            break\n",
    "        else:\n",
    "            i-=1\n",
    "    a = a//yak\n",
    "    b = b//yak\n",
    "    i = 1\n",
    "    while True:\n",
    "        if (a * i) % b == 0:\n",
    "            bae = a*i\n",
    "            break\n",
    "        else:\n",
    "            i+=1\n",
    "    bae *= yak\n",
    "    print(bae)"
   ],
   "metadata": {
    "collapsed": false
   },
   "id": "f3300f86f245cd74"
  },
  {
   "cell_type": "code",
   "execution_count": null,
   "outputs": [],
   "source": [
    "import sys\n",
    "C = int(input())\n",
    "nums = list(map(int,sys.stdin.readline().split()))\n",
    "count = 0\n",
    "def prime(num):\n",
    "    if num in [2,3]:\n",
    "        return True\n",
    "    elif num == 1:\n",
    "        return False\n",
    "    for i in range(2,num):\n",
    "        if num % i == 0:\n",
    "            return False\n",
    "    return True\n",
    "for i in nums:\n",
    "    if prime(i):\n",
    "        count+=1\n",
    "print(count)"
   ],
   "metadata": {
    "collapsed": false
   },
   "id": "62fcffa1549eaa41"
  },
  {
   "cell_type": "code",
   "execution_count": null,
   "outputs": [],
   "source": [
    "import sys\n",
    "a,b = tuple(map(int,sys.stdin.readline().split()))\n",
    "def prime(num):\n",
    "    if num in [2,3]:\n",
    "        return True\n",
    "    elif num == 1:\n",
    "        return False\n",
    "    for i in range(2,num):\n",
    "        if num % i == 0:\n",
    "            return False\n",
    "    return True\n",
    "if a % 2 == 0 :\n",
    "    nums = [ i for i in range(a,b+1)][::2]\n",
    "else:\n",
    "    nums = [ i for i in range(a,b+1)][1::2]\n",
    "for i in nums:\n",
    "    if prime(i) :\n",
    "        print(i)"
   ],
   "metadata": {
    "collapsed": false
   },
   "id": "7f42672fe4243cbb"
  },
  {
   "cell_type": "code",
   "execution_count": null,
   "outputs": [],
   "source": [
    "n = int(input())\n",
    "result = n\n",
    "if n == 0 :\n",
    "    print(1)\n",
    "else:\n",
    "    for i in range(n-1,1,-1):\n",
    "        result *= i\n",
    "    print(result)"
   ],
   "metadata": {
    "collapsed": false
   },
   "id": "f455982e3bd5924e"
  },
  {
   "cell_type": "code",
   "execution_count": null,
   "outputs": [],
   "source": [
    "stack = []\n",
    "n = int(input())\n",
    "if n == 0 or n == 1:\n",
    "    print(0)\n",
    "num2 = 0\n",
    "num5 = 0\n",
    "for i in range(1,n+1):\n",
    "    while i % 2 != 0 :\n",
    "        num2+=1\n",
    "        i = i//2\n",
    "    while i % 5 != 0 :\n",
    "        num5+=1\n",
    "        i = i//5\n",
    "print(min(num2,num5))"
   ],
   "metadata": {
    "collapsed": false
   },
   "id": "b0b63b6a057a12fa"
  },
  {
   "cell_type": "code",
   "execution_count": null,
   "outputs": [],
   "source": [
    "n = int(input())\n",
    "result = n\n",
    "if n <4:\n",
    "    print(0)\n",
    "else:\n",
    "    for i in range(n-1,1,-1):\n",
    "        result *= i\n",
    "    count = 0\n",
    "    string = str(result)\n",
    "    for i in range(len(string)-1,-1,-1):\n",
    "        if string[i] != '0':\n",
    "            break\n",
    "        else:\n",
    "            count+=1\n",
    "    print(count)"
   ],
   "metadata": {
    "collapsed": false
   },
   "id": "c4d6b61962adc426"
  },
  {
   "cell_type": "code",
   "execution_count": 4,
   "outputs": [],
   "source": [
    "def combination(n,m):\n",
    "    if m == 0 :\n",
    "        return 1\n",
    "    elif m == 1 :\n",
    "        return n\n",
    "    else:\n",
    "        if n-m > m :\n",
    "            mother = 1\n",
    "            for i in range(n-m+1,n+1):\n",
    "                mother *= i\n",
    "            son = 1\n",
    "            for i in range(2,m+1):\n",
    "                son*=i\n",
    "            return mother // son\n",
    "        else:\n",
    "            mother = 1\n",
    "            for i in range(m+1,n+1):\n",
    "                mother*=i\n",
    "            son = 1\n",
    "            for i in range(2,m-n+1):\n",
    "                son*=i\n",
    "            return mother // son\n",
    "import sys\n",
    "n,m = tuple(map(int,sys.stdin.readline().split()))\n",
    "result = combination(n,m)\n",
    "result = str(result)\n",
    "count = 0\n",
    "for idx in range(len(result)-1,0,-1):\n",
    "    if result[idx] != '0':\n",
    "        break\n",
    "    else:\n",
    "        count+=1\n",
    "print(count)"
   ],
   "metadata": {
    "collapsed": false,
    "ExecuteTime": {
     "end_time": "2024-01-29T09:18:22.197738Z",
     "start_time": "2024-01-29T09:18:22.195376Z"
    }
   },
   "id": "7931efb3b789680a"
  },
  {
   "cell_type": "code",
   "execution_count": 5,
   "outputs": [
    {
     "data": {
      "text/plain": "10"
     },
     "execution_count": 5,
     "metadata": {},
     "output_type": "execute_result"
    }
   ],
   "source": [
    "#골드 웅앵\n",
    "import sys\n",
    "def ex(a):\n",
    "    if a == 1 :\n",
    "        return False\n",
    "    \n",
    "    for i in range(2,a):\n",
    "        if a % i == 0:\n",
    "            return False\n",
    "    return True\n",
    "while True:\n",
    "    n = int(sys.stdin.readline()[:-1])\n",
    "    if n == 0 :\n",
    "        break\n",
    "    b = n-1\n",
    "    a = 1\n",
    "    found = False\n",
    "    while b >=a :\n",
    "        if ex(b) and ex(a) :\n",
    "            found = True\n",
    "            break\n",
    "        b-=2\n",
    "        a+=2\n",
    "    if found : \n",
    "        print(f'{n} = {a} + {b}')\n",
    "    else:\n",
    "        print(\"Goldbach's conjecture is wrong.\")"
   ],
   "metadata": {
    "collapsed": false,
    "ExecuteTime": {
     "end_time": "2024-01-29T09:18:22.403034Z",
     "start_time": "2024-01-29T09:18:22.400741Z"
    }
   },
   "id": "534af12e533e48a0"
  },
  {
   "cell_type": "code",
   "execution_count": 4,
   "outputs": [
    {
     "data": {
      "text/plain": "5"
     },
     "execution_count": 4,
     "metadata": {},
     "output_type": "execute_result"
    }
   ],
   "source": [
    "#소수찾기\n",
    "import sys, math\n",
    "a,b = tuple(map(int,sys.stdin.readline().split()))\n",
    "def prime(n):\n",
    "    if n <= 2 :\n",
    "        return False\n",
    "    for i in range(2,int(math.sqrt(n))+1):\n",
    "        if n % i == 0 :\n",
    "            return False\n",
    "    return True\n",
    "    \n",
    "count = 0\n",
    "for n in range(a,b+1):\n",
    "    if prime(n):\n",
    "        count+=1\n",
    "print(count)"
   ],
   "metadata": {
    "collapsed": false,
    "ExecuteTime": {
     "end_time": "2024-02-04T11:41:55.549433Z",
     "start_time": "2024-02-04T11:41:55.546021Z"
    }
   },
   "id": "1428c2dca8d1aa96"
  },
  {
   "cell_type": "code",
   "execution_count": null,
   "outputs": [],
   "source": [
    "#골ㅇ드 , pypy\n",
    "import math, sys\n",
    "nums = [ ]\n",
    "while True:\n",
    "    n = int(sys.stdin.readline()[:-1])\n",
    "    if n == 0 :\n",
    "        break\n",
    "    nums.append(n)\n",
    "mx = max(nums)\n",
    "prime = [True] * mx\n",
    "for n in range(2,int(math.sqrt(mx))+1):\n",
    "    if prime[n] :\n",
    "        prime[n+n::n] = [False] * len(prime[n+n::n])\n",
    "\n",
    "for n in nums :\n",
    "    b = n-3\n",
    "    a = 3\n",
    "    found = False\n",
    "    while b>=a :\n",
    "        if prime[b] and prime[a] :\n",
    "            found = True\n",
    "            print(f'{n} = {a} + {b}')\n",
    "            break\n",
    "        else:\n",
    "            b-=2\n",
    "            a+=2\n",
    "    if not found :\n",
    "        print(\"Goldbach's conjecture is wrong.\")"
   ],
   "metadata": {
    "collapsed": false
   },
   "id": "ae275967f4065105"
  }
 ],
 "metadata": {
  "kernelspec": {
   "display_name": "Python 3",
   "language": "python",
   "name": "python3"
  },
  "language_info": {
   "codemirror_mode": {
    "name": "ipython",
    "version": 2
   },
   "file_extension": ".py",
   "mimetype": "text/x-python",
   "name": "python",
   "nbconvert_exporter": "python",
   "pygments_lexer": "ipython2",
   "version": "2.7.6"
  }
 },
 "nbformat": 4,
 "nbformat_minor": 5
}
