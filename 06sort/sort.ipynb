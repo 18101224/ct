{
 "cells": [
  {
   "cell_type": "code",
   "execution_count": 1,
   "metadata": {},
   "outputs": [],
   "source": [
    "import sys\n",
    "import math\n",
    "from collections import defaultdict"
   ]
  },
  {
   "attachments": {},
   "cell_type": "markdown",
   "metadata": {},
   "source": [
    "<h4>선택정렬</h4>\n",
    "맨 앞에서부터 시작해서 최소값을 찾아 앞으로 보내는 방식,  \n",
    "O(N^2)의 복잡도를 가진다. "
   ]
  },
  {
   "cell_type": "code",
   "execution_count": null,
   "metadata": {},
   "outputs": [],
   "source": [
    "data = []\n",
    "min = data[0]\n",
    "\n",
    "for i in range(len(data)):\n",
    "    for j in range(i+1,len(data)):\n",
    "        if data[j] < min :\n",
    "            data[j],data[i] = data[i],data[j]\n"
   ]
  },
  {
   "attachments": {},
   "cell_type": "markdown",
   "metadata": {},
   "source": [
    "<h4>삽입정렬</h4>\n",
    "원소의 적절한 위치를 찾아주며, 두번째 원소부터 시작한다. 이 방법은 이미 정렬되어있는 데이터에서 선택정렬보다 효율적이다.  \n",
    "데이터가 정렬되어있는 경우에는 O(N)의 시간만을 소요한다. "
   ]
  },
  {
   "cell_type": "code",
   "execution_count": 11,
   "metadata": {},
   "outputs": [
    {
     "name": "stdout",
     "output_type": "stream",
     "text": [
      "[0, 1, 2, 3, 4, 5, 6, 7, 8, 9]\n"
     ]
    }
   ],
   "source": [
    "data = [7,5,9,0,3,1,6,2,4,8]\n",
    "for j in range(1,len(data)):\n",
    "    i=j\n",
    "    while data[i] < data[i-1]:\n",
    "        data[i],data[i-1] = data[i-1],data[i] \n",
    "        i-=1\n",
    "        if i == 0:\n",
    "            break\n",
    "print(data)"
   ]
  },
  {
   "attachments": {},
   "cell_type": "markdown",
   "metadata": {},
   "source": [
    "<h4>퀵 정렬</h4>\n",
    "최악은 O(N^2)이지만, 웬만하면 O(NlogN)에 끝난다. "
   ]
  },
  {
   "cell_type": "code",
   "execution_count": 16,
   "metadata": {},
   "outputs": [
    {
     "name": "stdout",
     "output_type": "stream",
     "text": [
      "[0, 1, 2, 3, 4, 5, 6, 7, 8, 9]\n"
     ]
    }
   ],
   "source": [
    "def quicksort(data):\n",
    "    if len(data) <= 1 :\n",
    "        return data\n",
    "    elif len(data) == 2:\n",
    "        if data[0] > data[1]:\n",
    "            return data[::-1]\n",
    "        else:\n",
    "            return data\n",
    "    else:\n",
    "        left = []\n",
    "        right = []\n",
    "        for i in range(1,len(data)):\n",
    "            if data[i] < data[0]:\n",
    "                left.append(data[i])\n",
    "            else:\n",
    "                right.append(data[i])\n",
    "        return quicksort(left) + [data[0]] + quicksort(right)\n",
    "array=[5,7,9,0,3,1,6,2,4,8]\n",
    "print(quicksort(array))"
   ]
  },
  {
   "attachments": {},
   "cell_type": "markdown",
   "metadata": {},
   "source": [
    "<h4>계수 정렬</h4>\n",
    "최대값 + 1 만큼의 리스틑 선언해두고 N개를 한번씩 훑으며 count해준다. 메모리를 더 소모하지만 시간적으로 효율적이며 O(N+K)의 복잡도를 가진다.  \n",
    "0~10,000,000 의 범위를 가진다면 사용하는것이 좋다. max값을 찾는것 또한 O(N)의 시간이 소요, \n",
    "데이터의 편차가 심하지 않고, 중복이 많이되어있으며, 결과적으로 기수정렬과 더불어 가장 효율적, 때로는 기수정렬보다 더 빠르다. \n"
   ]
  },
  {
   "cell_type": "code",
   "execution_count": 18,
   "metadata": {},
   "outputs": [
    {
     "name": "stdout",
     "output_type": "stream",
     "text": [
      "[0, 0, 1, 1, 2, 2, 3, 4, 5, 5, 6, 7, 8, 9, 9]\n"
     ]
    }
   ],
   "source": [
    "array=[7,5,9,0,3,1,6,2,9,1,4,8,0,5,2]\n",
    "count = [0] * (max(array)+1)\n",
    "\n",
    "for i in array:\n",
    "    count[i]+=1\n",
    "result = []\n",
    "for i in range(len(count)):\n",
    "    for j in range(count[i]):\n",
    "        result.append(i)\n",
    "print(result)"
   ]
  },
  {
   "attachments": {},
   "cell_type": "markdown",
   "metadata": {},
   "source": [
    "파이썬 내장 정렬함수는 병합정렬로 구현이 되어있는데, 일반적으로 퀵정렬보다는 느리지만 최악의 경우에도 O(NlogN)의 시간을 보장한다. "
   ]
  },
  {
   "cell_type": "code",
   "execution_count": 23,
   "metadata": {},
   "outputs": [],
   "source": [
    "array=[('2323',2),('23141',5),('3131',3)]\n",
    "array.sort(key=lambda x: x[1])"
   ]
  },
  {
   "attachments": {},
   "cell_type": "markdown",
   "metadata": {},
   "source": [
    "<h1>실전문제1</h1>\n",
    "그냥 오름차순 정렬"
   ]
  },
  {
   "cell_type": "code",
   "execution_count": null,
   "metadata": {},
   "outputs": [],
   "source": [
    "N = int(input())\n",
    "data=[]\n",
    "for i in range(N):\n",
    "    k = int(sys.stdin.readline())\n",
    "    data.append(k)\n",
    "print(data.sort())"
   ]
  },
  {
   "cell_type": "code",
   "execution_count": null,
   "metadata": {},
   "outputs": [],
   "source": [
    "<h1>실전문제2</h1>\n",
    "그냥 오름차순 정렬, 근데 키가 살짝 바뀐 .. "
   ]
  },
  {
   "cell_type": "code",
   "execution_count": null,
   "metadata": {},
   "outputs": [],
   "source": [
    "N = int(input())\n",
    "data = []\n",
    "for i in range(N):\n",
    "    name, age = sys.stdin.readline().split(' ')\n",
    "    data.append((name,int(age)))\n",
    "data.sort(key=lambda x:x[1])\n",
    "print(data)"
   ]
  },
  {
   "attachments": {},
   "cell_type": "markdown",
   "metadata": {},
   "source": [
    "<h1>실전문제3</h1>\n",
    "배열 두개 있으면 K번 바꿔치기를 해서 A배열의 합이 최대가 되게 해라"
   ]
  },
  {
   "cell_type": "code",
   "execution_count": null,
   "metadata": {},
   "outputs": [],
   "source": [
    "N,K = map(int, input().split(' '))\n",
    "lists =[]\n",
    "for i in range(2):\n",
    "    lists.append(list(map(int,input().split(' '))))\n",
    "for i in range(2):\n",
    "    lists[i].sort()\n",
    "for k in range(K):\n",
    "    if lists[0][k] < lists[1][-k-1]:\n",
    "        lists[0][k] , lists[1][-k-1] = lists[1][-k-1] , lists[0][k]\n",
    "    else:\n",
    "        break\n"
   ]
  },
  {
   "cell_type": "code",
   "execution_count": 27,
   "metadata": {},
   "outputs": [
    {
     "name": "stdout",
     "output_type": "stream",
     "text": [
      "[6, 6, 5, 4, 5]\n"
     ]
    }
   ],
   "source": [
    "lists=[\n",
    "    [1,2,5,4,3],\n",
    "    [5,5,6,6,5]\n",
    "]\n",
    "K=3\n",
    "for i in range(2):\n",
    "    lists[i].sort()\n",
    "for k in range(K):\n",
    "    if lists[0][k] < lists[1][-k-1]:#sort(reverse=True)\n",
    "        lists[0][k] , lists[1][-k-1] = lists[1][-k-1] , lists[0][k]\n",
    "    else:\n",
    "        break\n",
    "\n",
    "print(lists[0])\n"
   ]
  }
 ],
 "metadata": {
  "kernelspec": {
   "display_name": "Python 3",
   "language": "python",
   "name": "python3"
  },
  "language_info": {
   "codemirror_mode": {
    "name": "ipython",
    "version": 3
   },
   "file_extension": ".py",
   "mimetype": "text/x-python",
   "name": "python",
   "nbconvert_exporter": "python",
   "pygments_lexer": "ipython3",
   "version": "3.10.9"
  },
  "orig_nbformat": 4
 },
 "nbformat": 4,
 "nbformat_minor": 2
}
