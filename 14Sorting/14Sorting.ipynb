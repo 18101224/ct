{
 "cells": [
  {
   "cell_type": "code",
   "execution_count": null,
   "metadata": {},
   "outputs": [],
   "source": [
    "n = int(input())\n",
    "import sys\n",
    "data = []\n",
    "for i in range(n):\n",
    "    name,k,e,m = sys.stdin.readline().split()\n",
    "    data.append((name,int(k),int(e),int(m)))\n",
    "data.sort(key=lambda x: (-x[1],x[2],-x[3],x[0]))\n",
    "for i in data:\n",
    "    print(i[0])"
   ]
  },
  {
   "cell_type": "code",
   "execution_count": null,
   "metadata": {},
   "outputs": [],
   "source": [
    "import sys\n",
    "n = int(input())\n",
    "houses = list(map(int,sys.stdin.readline().split()))\n",
    "houses.sort()[len(houses)//2]"
   ]
  },
  {
   "cell_type": "code",
   "execution_count": null,
   "metadata": {},
   "outputs": [],
   "source": [
    "import heapq\n",
    "import sys\n",
    "n=int(input())\n",
    "heap=[]\n",
    "for i in range(n):\n",
    "    heapq.heappush(heap,int(sys.stdin.readline()))\n",
    "result = 0\n",
    "while len(heap)!=1:\n",
    "    one = heapq.heappop(heap)\n",
    "    two = heapq.heappop(heap)\n",
    "    sum_value = one+two\n",
    "    result+=sum_value\n",
    "    heapq.heappush(heap,sum_value)\n",
    "print(result)"
   ]
  }
 ],
 "metadata": {
  "language_info": {
   "name": "python"
  },
  "orig_nbformat": 4
 },
 "nbformat": 4,
 "nbformat_minor": 2
}
