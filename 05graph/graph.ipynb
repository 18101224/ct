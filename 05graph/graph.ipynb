{
 "cells": [
  {
   "attachments": {},
   "cell_type": "markdown",
   "metadata": {},
   "source": [
    "<h1>BFS,DFS</h1>\n",
    "<hr>\n",
    "그래프 저장 방법  <br>\n",
    " adjacency matrix : 임의 접근은 효율적이나 메모리가 많이 필요하다.<br>  \n",
    " adjacency list : 메모리 상에서 효율적이나 임의접근이 불가능  <br>\n",
    "DFS는 stack, BFS는 queue 로 구현을 하며 BFS가 DFS보다 시간적으로 효율  <br>\n",
    "스택과 큐 모두 list로 구현이 가능하지만, deque를 사용하는 것이 시간상 효율적이다.   <br>"
   ]
  },
  {
   "cell_type": "code",
   "execution_count": 1,
   "metadata": {},
   "outputs": [],
   "source": [
    "from collections import deque\n",
    "from collections import defaultdict\n",
    "import sys\n",
    "import math"
   ]
  },
  {
   "attachments": {},
   "cell_type": "markdown",
   "metadata": {},
   "source": [
    "<h1>실전문제1 음료수 얼려먹기</h1>\n",
    "독립적인 그래프의 개수 구하기"
   ]
  },
  {
   "cell_type": "code",
   "execution_count": null,
   "metadata": {},
   "outputs": [],
   "source": [
    "(n,m) = tuple(map(int,input().split(' ')))\n",
    "def valid(position,direction): #현재 위치에서, 인접한 노드들의 인덱스가 유효한지 체크해주는 함수\n",
    "    global m, n\n",
    "    newX  = position[0] + direction[0]\n",
    "    newY = position[1] + direction[1]\n",
    "    if newX <0 or newX>=n :\n",
    "        return False\n",
    "    if newY <0 or newY>=m:\n",
    "        return False\n",
    "    if MAB[newX][newY]=='1': #x가 행, y가 열\n",
    "        return False\n",
    "    return True\n",
    "def dfs(start): #dfs 수행 \n",
    "    global visited\n",
    "    temp = []\n",
    "    visited[start]=True\n",
    "    directions  = [(0,1),(0,-1),(-1,0),(1,0)]\n",
    "    for v in directions:\n",
    "        if valid(start,v):\n",
    "            temp.append((start[0]+v[0],start[1]+v[1]))\n",
    "    for i in temp:\n",
    "        if not visited[i] :\n",
    "            dfs(i)\n",
    "visited = defaultdict(bool)\n",
    "#얼음판 받기\n",
    "MAB = []\n",
    "for i in range(n):\n",
    "    row = sys.stdin.readline()\n",
    "    MAB.append(row)\n",
    "\n",
    "count = 0 #그래프 개수를 세기위한 변수\n",
    "for i in range(n):\n",
    "    for j in range(m): #각 그래프의 시작 정점에서만 count가 추가된다. ->결론적으로 count는 독립적인 그래프\n",
    "        if not visited[(i,j)] and MAB[i][j] != '1':\n",
    "            count+=1\n",
    "            dfs((i,j))\n",
    "print(count)"
   ]
  },
  {
   "attachments": {},
   "cell_type": "markdown",
   "metadata": {},
   "source": [
    "<h1>실전문제2 미로탈출</h1>"
   ]
  },
  {
   "cell_type": "code",
   "execution_count": null,
   "metadata": {},
   "outputs": [],
   "source": [
    "(n,m) = tuple(map(int, input().split(' ')))\n",
    "mab = []\n",
    "for i in range(n):\n",
    "    temp = sys.stdin.readline()\n",
    "    mab.append(temp)\n",
    "\n",
    "def valid(position,direction): #현재 위치에서, 인접한 노드들의 인덱스가 유효한지 체크해주는 함수\n",
    "    global m, n\n",
    "    newX  = position[0] + direction[0]\n",
    "    newY = position[1] + direction[1]\n",
    "    if newX <0 or newX>=n :\n",
    "        return False\n",
    "    if newY <0 or newY>=m:\n",
    "        return False\n",
    "    if mab[newX][newY]=='0': #x가 행, y가 열\n",
    "        return False\n",
    "    return True\n",
    "\n",
    "def bfs(start): \n",
    "    global parent\n",
    "    global visited\n",
    "    global queue\n",
    "    visited[start]=True\n",
    "    directions = [(-1,0),(1,0),(0,1),(0,-1)]\n",
    "    for v in directions :\n",
    "        next = (start[0]+v[0],start[1]+v[1])\n",
    "        if valid(start,v) and not visited[next]: #갈 노드가 유효하고, 아직 방문하지 않았다면\n",
    "            queue.append(next)\n",
    "            parent[next]=start #부모를 기록 \n",
    "\n",
    "queue = [(0,0)]\n",
    "visited = defaultdict(bool)\n",
    "parent = defaultdict(int)\n",
    "while True:\n",
    "    temp = queue.pop(0) #시작점에서 시작해서 \n",
    "    bfs(temp)\n",
    "    if (n-1,m-1) in queue: #도착지에서 반복문을 벗어남 \n",
    "        break\n",
    "count=0\n",
    "temp = (n-1,m-1)\n",
    "while True: #끝점에서부터 부모를 찾아가며 경로를 셈\n",
    "    count+=1\n",
    "    temp = parent[temp]\n",
    "    if temp == (0,0):\n",
    "        count+=1\n",
    "        break\n",
    "print(count)"
   ]
  },
  {
   "cell_type": "code",
   "execution_count": null,
   "metadata": {},
   "outputs": [],
   "source": [
    "dx = [-1,1,0,0]\n",
    "dy = [0,0,-1,1]\n",
    "\n",
    "def bfs(x,y):\n",
    "    queue = deque()\n",
    "    queue.append((x,y))\n",
    "    while queue : \n",
    "        x,y = queue.popleft()\n",
    "        for i in range(4): #네 방향\n",
    "            nx = x+dx[i]\n",
    "            ny = y+dy[i]\n",
    "\n",
    "            if nx<0 or ny <0 or nx>=n or ny>=m:\n",
    "                continue\n",
    "            if graph[nx][ny] ==0:\n",
    "                continue\n",
    "\n",
    "            if graph[nx][ny] ==1 : #아예 거리로 생각을하고, 1을 처음 방문하는 것으로 하는게 효율적이었다. \n",
    "                graph[nx][ny] = graph[x][y]+1 #거리를 기록해간다. \n",
    "                queue.append((nx,ny))\n",
    "    return graph[n-1][m-1]\n"
   ]
  }
 ],
 "metadata": {
  "kernelspec": {
   "display_name": "Python 3",
   "language": "python",
   "name": "python3"
  },
  "language_info": {
   "codemirror_mode": {
    "name": "ipython",
    "version": 3
   },
   "file_extension": ".py",
   "mimetype": "text/x-python",
   "name": "python",
   "nbconvert_exporter": "python",
   "pygments_lexer": "ipython3",
   "version": "3.10.9"
  },
  "orig_nbformat": 4
 },
 "nbformat": 4,
 "nbformat_minor": 2
}
