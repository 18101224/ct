{
 "cells": [
  {
   "cell_type": "code",
   "execution_count": 1,
   "metadata": {},
   "outputs": [],
   "source": [
    "from collections import deque\n",
    "from collections import defaultdict\n",
    "import sys\n",
    "import math"
   ]
  },
  {
   "attachments": {},
   "cell_type": "markdown",
   "metadata": {},
   "source": [
    "<h1>실전문제1 음료수 얼려먹기</h1>\n",
    "독립적인 그래프의 개수 구하기"
   ]
  },
  {
   "cell_type": "code",
   "execution_count": null,
   "metadata": {},
   "outputs": [],
   "source": [
    "(n,m) = tuple(map(int,input().split(' ')))\n",
    "def valid(position,direction): #현재 위치에서, 인접한 노드들의 인덱스가 유효한지 체크해주는 함수\n",
    "    global m, n\n",
    "    newX  = position[0] + direction[0]\n",
    "    newY = position[1] + direction[1]\n",
    "    if newX <0 or newX>=n :\n",
    "        return False\n",
    "    if newY <0 or newY>=m:\n",
    "        return False\n",
    "    if MAB[newX][newY]=='1': #x가 행, y가 열\n",
    "        return False\n",
    "    return True\n",
    "def dfs(start): #dfs 수행 \n",
    "    global visited\n",
    "    temp = []\n",
    "    visited[start]=True\n",
    "    directions  = [(0,1),(0,-1),(-1,0),(1,0)]\n",
    "    for v in directions:\n",
    "        if valid(start,v):\n",
    "            temp.append((start[0]+v[0],start[1]+v[1]))\n",
    "    for i in temp:\n",
    "        if not visited[i] :\n",
    "            dfs(i)\n",
    "visited = defaultdict(bool)\n",
    "#얼음판 받기\n",
    "MAB = []\n",
    "for i in range(n):\n",
    "    row = sys.stdin.readline()\n",
    "    MAB.append(row)\n",
    "\n",
    "count = 0 #그래프 개수를 세기위한 변수\n",
    "for i in range(n):\n",
    "    for j in range(m): #각 그래프의 시작 정점에서만 count가 추가된다. ->결론적으로 count는 독립적인 그래프\n",
    "        if not visited[(i,j)] and MAB[i][j] != '1':\n",
    "            count+=1\n",
    "            dfs((i,j))\n",
    "print(count)"
   ]
  },
  {
   "attachments": {},
   "cell_type": "markdown",
   "metadata": {},
   "source": [
    "<h1>실전문제2 미로탈출</h1>"
   ]
  },
  {
   "cell_type": "code",
   "execution_count": null,
   "metadata": {},
   "outputs": [],
   "source": [
    "(n,m) = tuple(map(int, input().split(' ')))\n",
    "mab = []\n",
    "for i in range(n):\n",
    "    temp = sys.stdin.readline()\n",
    "    mab.append(temp)\n",
    "def valid(position,direction): #현재 위치에서, 인접한 노드들의 인덱스가 유효한지 체크해주는 함수\n",
    "    global m, n\n",
    "    newX  = position[0] + direction[0]\n",
    "    newY = position[1] + direction[1]\n",
    "    if newX <0 or newX>=n :\n",
    "        return False\n",
    "    if newY <0 or newY>=m:\n",
    "        return False\n",
    "    if mab[newX][newY]=='0': #x가 행, y가 열\n",
    "        return False\n",
    "    return True\n",
    "def bfs(start):\n",
    "    global parent\n",
    "    global visited\n",
    "    global queue\n",
    "    visited[start]=True\n",
    "    directions = [(-1,0),(1,0),(0,1),(0,-1)]\n",
    "    for v in directions :\n",
    "        next = (start[0]+v[0],start[1]+v[1])\n",
    "        if valid(start,v) and not visited[next]:\n",
    "            queue.append(next)\n",
    "            parent[next]=start\n",
    "queue = [(0,0)]\n",
    "visited = defaultdict(bool)\n",
    "parent = defaultdict(int)\n",
    "while True:\n",
    "    temp = queue.pop(0)\n",
    "    bfs(temp)\n",
    "    if (n-1,m-1) in queue:\n",
    "        break\n",
    "count=0\n",
    "temp = (n-1,m-1)\n",
    "while True:\n",
    "    count+=1\n",
    "    temp = parent[temp]\n",
    "    if temp == (0,0):\n",
    "        count+=1\n",
    "        break\n",
    "print(count)"
   ]
  }
 ],
 "metadata": {
  "kernelspec": {
   "display_name": "Python 3",
   "language": "python",
   "name": "python3"
  },
  "language_info": {
   "codemirror_mode": {
    "name": "ipython",
    "version": 3
   },
   "file_extension": ".py",
   "mimetype": "text/x-python",
   "name": "python",
   "nbconvert_exporter": "python",
   "pygments_lexer": "ipython3",
   "version": "3.10.9"
  },
  "orig_nbformat": 4
 },
 "nbformat": 4,
 "nbformat_minor": 2
}
