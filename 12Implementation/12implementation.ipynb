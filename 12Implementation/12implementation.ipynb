{
 "cells": [
  {
   "cell_type": "code",
   "execution_count": 11,
   "metadata": {},
   "outputs": [],
   "source": [
    "from collections import defaultdict"
   ]
  },
  {
   "cell_type": "code",
   "execution_count": null,
   "metadata": {},
   "outputs": [],
   "source": [
    "string = input()\n",
    "left = string[:len(string)//2]\n",
    "right = string[len(string)//2:]\n",
    "def sm(string):\n",
    "    result = 0\n",
    "    for i in string:\n",
    "        result+=int(i)\n",
    "    return result\n",
    "if sm(left) == sm(right) :\n",
    "    print('LUCKY')\n",
    "else:\n",
    "    print('READY')"
   ]
  },
  {
   "cell_type": "code",
   "execution_count": 9,
   "metadata": {},
   "outputs": [],
   "source": [
    "string = input()\n",
    "st = []\n",
    "num = 0\n",
    "for i in string:\n",
    "    if ord(i) >= ord('A'):\n",
    "        st.append(ord(i))\n",
    "    else:\n",
    "        num+= int(i)\n",
    "st.sort()\n",
    "result=''\n",
    "for i in st:\n",
    "    result+=chr(i)\n",
    "result+=str(num)"
   ]
  },
  {
   "cell_type": "code",
   "execution_count": 59,
   "metadata": {},
   "outputs": [],
   "source": [
    "def solution(string):\n",
    "    n = len(string)\n",
    "    print(n)\n",
    "    mx = 0\n",
    "    count = defaultdict(int)\n",
    "    for i in range(1,n):\n",
    "        previous = string[:i]\n",
    "        B = False #is continous?, first\n",
    "        j=i\n",
    "        while j+i <=n :\n",
    "            if previous == string[j:j+i] and not B:\n",
    "                count[i]+=(i-1)\n",
    "                B = True\n",
    "                j=j+i\n",
    "            elif previous == string[j:j+i] and B:\n",
    "                count[i]+=i\n",
    "                j=j+i\n",
    "            else:\n",
    "                j+=1\n",
    "                previous=string[j-i:j]\n",
    "                B=False\n",
    "        if count[i] > mx:\n",
    "            mx = count[i]\n",
    "            print('i',i)\n",
    "    return n-mx"
   ]
  },
  {
   "cell_type": "code",
   "execution_count": 61,
   "metadata": {},
   "outputs": [
    {
     "name": "stdout",
     "output_type": "stream",
     "text": [
      "16\n",
      "i 2\n",
      "i 8\n"
     ]
    },
    {
     "data": {
      "text/plain": [
       "9"
      ]
     },
     "execution_count": 61,
     "metadata": {},
     "output_type": "execute_result"
    }
   ],
   "source": [
    "solution('ababcdcdababcdcd')"
   ]
  },
  {
   "cell_type": "code",
   "execution_count": 67,
   "metadata": {},
   "outputs": [],
   "source": [
    "from copy import deepcopy\n",
    "from collections import defaultdict\n",
    "def transpose(mat):\n",
    "    C = len(mat[0])\n",
    "    R = len(mat)\n",
    "    result = [[0 for i in range(R)] for i in range(C)]\n",
    "    for r in range(R):\n",
    "        for c in  range(C):\n",
    "            result[c][r] = mat[r][c]\n",
    "    return result\n",
    "def rotate(key):\n",
    "    #반시계로 90도 회전\n",
    "    results = [deepcopy(key)]\n",
    "    for k in range(4):\n",
    "        for i,row in enumerate(key):\n",
    "            key[i] = row[::-1]\n",
    "        key = transpose(key)\n",
    "        results.append(deepcopy(key))\n",
    "    return results[:-1]\n",
    "def check(key,map):\n",
    "    summation = 0\n",
    "    global summation_key \n",
    "    for i in key:\n",
    "        summation+=sum(i)\n",
    "    if summation_key != summation :\n",
    "        return False\n",
    "    for i in range(len(key)):\n",
    "        for j in range(len(key)):\n",
    "            if map[i][j] == key[i][j]:\n",
    "                return False\n",
    "    return True\n",
    "def validKey(key):\n",
    "    widthmin,widthmax = 100,0\n",
    "    heightmin,heightmax = 100,0\n",
    "    for i in range(len(key)):\n",
    "        for j in range(len(key[0])):\n",
    "            if key[i][j] == 1 :\n",
    "                if i > heightmax :\n",
    "                    heightmax = i\n",
    "                if i < heightmin : \n",
    "                    heightmin = i\n",
    "                if j > widthmax :\n",
    "                    widthmax = j\n",
    "                if j < widthmin :\n",
    "                    widthmin = j\n",
    "    return key[heightmin:heightmax+1][widthmin:widthmax+1]\n",
    "def solution(key,lock):\n",
    "    summation_key=0\n",
    "    for i in key:\n",
    "        summation_key+=sum(i)\n",
    "    \n",
    "    n = len(lock[0])\n",
    "    key = validKey(key)\n",
    "    keys = rotate(key)\n",
    "    print(key)\n",
    "    print(keys)\n",
    "    for key in keys:\n",
    "        m = len(key[0])\n",
    "        l = len(key)\n",
    "        for i in range(n-l):\n",
    "            for j in range(n-m):\n",
    "                if check(key,lock[i:i+m][j:j+m]):\n",
    "                    return True\n",
    "    return False\n",
    "    #열 단위로 뒤집고, \n",
    "    #transpose\n",
    "    "
   ]
  },
  {
   "cell_type": "code",
   "execution_count": 68,
   "metadata": {},
   "outputs": [
    {
     "name": "stdout",
     "output_type": "stream",
     "text": [
      "[[0, 0, 1], [1, 1, 0]]\n",
      "[[[1, 0, 0], [0, 1, 1]], [[0, 1], [0, 1], [1, 0]], [[1, 1, 0], [0, 0, 1]], [[0, 1], [1, 0], [1, 0]]]\n"
     ]
    },
    {
     "data": {
      "text/plain": [
       "False"
      ]
     },
     "execution_count": 68,
     "metadata": {},
     "output_type": "execute_result"
    }
   ],
   "source": [
    "solution([[0,0,0],[1,0,0],[0,1,1]],[[1,1,1],[1,1,0],[1,0,1]])"
   ]
  },
  {
   "cell_type": "code",
   "execution_count": null,
   "metadata": {},
   "outputs": [],
   "source": [
    "def perform(position,direction):\n",
    "    return (position[0]+direction[0],position[1]+direction[1])\n",
    "def rotate(x,y, hori):\n",
    "    if hori == 'D':\n",
    "        if (x,y) == (0,1) :\n",
    "            return (1,0)\n",
    "        if (x,y) == (1,0):\n",
    "            return (0,-1)\n",
    "        if (x,y) == (0,-1):\n",
    "            return (-1,0)\n",
    "        if (x,y) == (-1,0):\n",
    "            return (0,1)\n",
    "    else:\n",
    "        if (x,y) == (0,1):\n",
    "            return (-1,0)\n",
    "        if (x,y) == (1,0):\n",
    "            return (0,1)\n",
    "        if (x,y) == (-1,0):\n",
    "            return (0,-1)\n",
    "        if (x,y) == (0,-1):\n",
    "            return (1,0)\n",
    "def check(position):\n",
    "    global N\n",
    "    if position[0] < 0 or position[0] >= N:\n",
    "        return True\n",
    "    if position[1] <0 or position[1] >= N:\n",
    "        return True\n",
    "    return False\n",
    "N = int(input())\n",
    "n = int(input())\n",
    "MAP = [[0 for i in range(N)] for j in range(N)]\n",
    "body = [(0,0)]\n",
    "BODY = [[0 for i in range(N)]for J in range(N)]\n",
    "for r,c in body:\n",
    "    BODY[r][c] =1\n",
    "for i in range(n):\n",
    "    r,c = map(int,input().split())\n",
    "    MAP[r-1][c-1] = 1\n",
    "L = int(input())\n",
    "shifts = []\n",
    "for i in range(L):\n",
    "    second, direction = input().split()\n",
    "    shifts.append((int(second),direction))\n",
    "second = 0\n",
    "position = [0,0]\n",
    "direction = (0,1)\n",
    "toSHIFT,toDIRECTION = shifts.pop(0)\n",
    "\n",
    "while True:\n",
    "    second += 1\n",
    "    position = perform(position,direction)\n",
    "\n",
    "    y,x = position[0],position[1]\n",
    "    if check(position): #벽체크\n",
    "\n",
    "        break\n",
    "    elif BODY[y][x]==1: #몸체크\n",
    "\n",
    "        break\n",
    "    elif MAP[y][x] == 1 : #유효한 상황에서, 사과가 있다면\n",
    "        body.append(position)\n",
    "        MAP[y][x]=0\n",
    "        BODY[y][x]=1\n",
    "    else: #없으면\n",
    "        tail = body.pop(0)\n",
    "        BODY[tail[0]][tail[1]] = 0\n",
    "        body.append(position)\n",
    "        BODY[y][x]=1\n",
    "    if second == toSHIFT: #방향전환을 해야할 때\n",
    "        direction = rotate(direction[0],direction[1],toDIRECTION)\n",
    "        if shifts:\n",
    "            toSHIFT,toDIRECTION = shifts.pop(0)\n",
    "print(second)"
   ]
  }
 ],
 "metadata": {
  "kernelspec": {
   "display_name": "Python 3",
   "language": "python",
   "name": "python3"
  },
  "language_info": {
   "codemirror_mode": {
    "name": "ipython",
    "version": 3
   },
   "file_extension": ".py",
   "mimetype": "text/x-python",
   "name": "python",
   "nbconvert_exporter": "python",
   "pygments_lexer": "ipython3",
   "version": "3.9.6"
  },
  "orig_nbformat": 4
 },
 "nbformat": 4,
 "nbformat_minor": 2
}
