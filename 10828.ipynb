{
 "cells": [
  {
   "cell_type": "code",
   "execution_count": null,
   "id": "initial_id",
   "metadata": {
    "collapsed": true
   },
   "outputs": [],
   "source": [
    "class Stack:\n",
    "    def __init__(self):\n",
    "        self.data = []\n",
    "\n",
    "    def push(self, x):\n",
    "        self.data.append(x)\n",
    "\n",
    "    def pop(self):\n",
    "        try:\n",
    "            print( self.data.pop(-1))\n",
    "        except:\n",
    "            print( -1)\n",
    "\n",
    "    def size(self):\n",
    "        print(len(self.data))\n",
    "\n",
    "\n",
    "    def empty(self):\n",
    "        print(int(len(self.data) == 0))\n",
    "\n",
    "    def top(self):\n",
    "        if len(self.data) == 0:\n",
    "            print(-1)\n",
    "        else:\n",
    "            print(self.data[-1])\n",
    "\n",
    "\n",
    "import sys\n",
    "\n",
    "stack = Stack()\n",
    "N = int(input())\n",
    "\n",
    "for i in range(N):\n",
    "    temp = list(sys.stdin.readline().split())\n",
    "    command = temp[0]\n",
    "    if command == 'push':\n",
    "        x = temp[1]\n",
    "        exec(f'stack.{command}({x})')\n",
    "    else:\n",
    "        exec(f'stack.{command}()')\n",
    "\n",
    "#exec method 는 return 값이 항상 None 이다 "
   ]
  },
  {
   "cell_type": "code",
   "execution_count": null,
   "outputs": [],
   "source": [
    "import sys\n",
    "C = int(input())\n",
    "for c in range(C):\n",
    "    strings = list(sys.stdin.readline().split())\n",
    "    result = ''\n",
    "    for string in strings : \n",
    "        result+=string[::-1]+' '\n",
    "    print(result[:-1])"
   ],
   "metadata": {
    "collapsed": false
   },
   "id": "48317ba2edf0718e"
  },
  {
   "cell_type": "code",
   "execution_count": null,
   "outputs": [],
   "source": [
    "import sys\n",
    "class Stack:\n",
    "    def __init__(self):\n",
    "        self.data = []\n",
    "    def push(self,x):\n",
    "        if len(self.data) == 0:\n",
    "            self.data.append(x)\n",
    "            if x == ')':\n",
    "                return False\n",
    "            return True\n",
    "        elif self.data[-1] == '(' and x==')':\n",
    "            self.data.pop(-1)\n",
    "            return True\n",
    "        elif self.data[-1] == '(' and x == '(' :\n",
    "            self.data.append('(')\n",
    "            return True\n",
    "C = int(input())\n",
    "for c in range(C):\n",
    "    stack = Stack()\n",
    "    result = True\n",
    "    string = sys.stdin.readline()\n",
    "    for char in string:\n",
    "        if not stack.push(char) :\n",
    "            result=False\n",
    "            break\n",
    "    if result : \n",
    "        print('YES')\n",
    "    else:\n",
    "        print('NO')"
   ],
   "metadata": {
    "collapsed": false
   },
   "id": "670e922875e46d18"
  },
  {
   "cell_type": "code",
   "execution_count": null,
   "outputs": [],
   "source": [],
   "metadata": {
    "collapsed": false
   },
   "id": "2e79fa453d084113"
  },
  {
   "cell_type": "code",
   "execution_count": null,
   "outputs": [],
   "source": [
    "import sys\n",
    "stack = sys.stdin.readline() #stack 이 아니라 queue임\n",
    "stack = stack.replace('\\n','')\n",
    "\n",
    "stack = list(stack)\n",
    "out_stack = []\n",
    "C = int(input())\n",
    "for c in range(C):\n",
    "    temp = list(sys.stdin.readline().split())\n",
    "    command = temp[0]\n",
    "    if len(temp) == 2:\n",
    "        stack.append(temp[1])\n",
    "    else:\n",
    "        if command == 'L':\n",
    "            if len(stack) == 0:\n",
    "                continue\n",
    "            else:\n",
    "                out_stack.append(stack.pop(-1))\n",
    "        elif command == 'D':\n",
    "            if len(out_stack) == 0:\n",
    "                continue\n",
    "            else:\n",
    "                stack.append(out_stack.pop(-1))\n",
    "\n",
    "        else : # case B\n",
    "            if len(stack) == 0:\n",
    "                continue\n",
    "            else:\n",
    "                stack.pop(-1)\n",
    "for i in stack+out_stack[::-1]:\n",
    "    print(i,end='')"
   ],
   "metadata": {
    "collapsed": false
   },
   "id": "6923121608da4d16"
  },
  {
   "cell_type": "code",
   "execution_count": null,
   "outputs": [],
   "source": [
    "class Queue:\n",
    "    def __init__(self):\n",
    "        self.data = []\n",
    "        self.idx = 0\n",
    "    def push(self,x):\n",
    "        self.data.append(x)\n",
    "    def pop(self):\n",
    "        if len(self.data) == self.idx:\n",
    "            print(-1)\n",
    "        else:\n",
    "            print(self.data[self.idx])\n",
    "            self.idx+=1\n",
    "    def size(self):\n",
    "        print(len(self.data)-self.idx)\n",
    "    def empty(self):\n",
    "        if len(self.data) == self.idx :\n",
    "            print(1)\n",
    "        else:\n",
    "            print(0)\n",
    "    def front(self):\n",
    "        if len(self.data) == self.idx :\n",
    "            print(-1)\n",
    "        else:\n",
    "            print(self.data[self.idx])\n",
    "    def back(self):\n",
    "        if len(self.data) == self.idx :\n",
    "            print(-1)\n",
    "        else:\n",
    "            print(self.data[-1])\n",
    "\n",
    "import sys\n",
    "queue = Queue()\n",
    "C = int(input())\n",
    "for c in range(C):\n",
    "    temp = list(sys.stdin.readline().split())\n",
    "    command = temp[0]\n",
    "    if len(temp) == 2:\n",
    "        queue.push(temp[1])\n",
    "    else:\n",
    "        exec(f'queue.{command}()')\n"
   ],
   "metadata": {
    "collapsed": false
   },
   "id": "2d32b20c3063f542"
  },
  {
   "cell_type": "code",
   "execution_count": null,
   "outputs": [],
   "source": [
    "class Deque:\n",
    "    def __init__(self):\n",
    "        self.left = None\n",
    "        self.right = None\n",
    "        self.size = 0\n",
    "\n",
    "    def push_front(self, x):\n",
    "        if not self.left:\n",
    "            self.left = x\n",
    "            self.right = x\n",
    "            self.size += 1\n",
    "        else:\n",
    "            x.set_right(self.left)\n",
    "            self.left.set_left(x)\n",
    "            self.left = x\n",
    "            self.size += 1\n",
    "\n",
    "    def push_back(self, x):\n",
    "        if not self.right:\n",
    "            self.right = x\n",
    "            self.left = x\n",
    "            self.size += 1\n",
    "        else:\n",
    "            x.set_left(self.right)\n",
    "            self.right.set_right(x)\n",
    "            self.right = x\n",
    "            self.size += 1\n",
    "\n",
    "    def pop_front(self):\n",
    "        if self.size == 0:\n",
    "            print(-1)\n",
    "        else:\n",
    "            print(self.left.data())\n",
    "            self.left = self.left.get_right()\n",
    "            self.size -= 1\n",
    "\n",
    "    def pop_back(self):\n",
    "        if self.size == 0:\n",
    "            print(-1)\n",
    "        else:\n",
    "            print(self.right.data())\n",
    "            self.right = self.right.get_left()\n",
    "            self.size -= 1\n",
    "\n",
    "    def get_size(self):\n",
    "        print(self.size)\n",
    "\n",
    "    def empty(self):\n",
    "        if self.size == 0:\n",
    "            print(1)\n",
    "        else:\n",
    "            print(0)\n",
    "\n",
    "    def front(self):\n",
    "        if self.size == 0:\n",
    "            print(-1)\n",
    "        else:\n",
    "            print(self.left.data())\n",
    "\n",
    "    def back(self):\n",
    "        if self.size == 0:\n",
    "            print(-1)\n",
    "        else:\n",
    "            print(self.right.data())\n",
    "\n",
    "\n",
    "class Node:\n",
    "    def __init__(self, x):\n",
    "        self.left = None\n",
    "        self.right = None\n",
    "        self.int = x\n",
    "\n",
    "    def set_left(self, x):\n",
    "        self.left = x\n",
    "\n",
    "    def set_right(self, x):\n",
    "        self.right = x\n",
    "\n",
    "    def get_right(self):\n",
    "        return self.right\n",
    "\n",
    "    def get_left(self):\n",
    "        return self.left\n",
    "\n",
    "    def data(self):\n",
    "        return self.int\n",
    "\n",
    "\n",
    "C = int(input())\n",
    "deque = Deque()\n",
    "import sys\n",
    "\n",
    "for c in range(C):\n",
    "    temp = list(sys.stdin.readline().split())\n",
    "    command = temp[0]\n",
    "    if len(temp) == 2:\n",
    "        node = Node(temp[1])\n",
    "        if command == 'push_back' :\n",
    "            deque.push_back(node)\n",
    "        else:\n",
    "            deque.push_front(node)\n",
    "    else:\n",
    "        if command == 'size':\n",
    "            deque.get_size()\n",
    "        else:\n",
    "            exec(f'deque.{command}()')"
   ],
   "metadata": {
    "collapsed": false
   },
   "id": "83ea8186202869f1"
  },
  {
   "cell_type": "code",
   "execution_count": null,
   "outputs": [],
   "source": [
    "N, k = tuple(map(int,input().split()))\n",
    "# 연결리스트로 하는게 가장 저거할듯 ? ?\n",
    "import queue\n",
    "a = queue.Queue([ i for i in range(N)])\n",
    "b = queue.Queue()\n",
    "temp = 'a'\n",
    "results = []\n",
    "print(a.qsize()+b.qsize())\n",
    "while a.qsize()+b.qsize() != 0 :\n",
    "    for i in range(k-1):\n",
    "        if temp == 'a' :\n",
    "            if a.qsize() == 0 :\n",
    "                temp = 'b'\n",
    "                now = b.get()\n",
    "                a.put(now)\n",
    "            else:\n",
    "                now = a.get()\n",
    "                b.put(now)\n",
    "        else:\n",
    "            if b.qsize() == 0:\n",
    "                temp = 'a'\n",
    "                now = a.get()\n",
    "                b.put(now)\n",
    "            else:\n",
    "                now = b.get()\n",
    "                a.put(now)\n",
    "    print(a)\n",
    "    if temp == 'a':\n",
    "        if a.qsize() == 0:\n",
    "            temp = 'b'\n",
    "            result = b.get()\n",
    "        else:\n",
    "            result = a.get()\n",
    "    else:\n",
    "        if b.qsize() == 0 :\n",
    "            temp = 'a'\n",
    "            result = a.get()\n",
    "        else:\n",
    "            result = b.get()\n",
    "    results.append(result)\n",
    "print(results)"
   ],
   "metadata": {
    "collapsed": false
   },
   "id": "da890944f6771cbe"
  },
  {
   "cell_type": "code",
   "execution_count": 11,
   "outputs": [],
   "source": [
    "import queue\n",
    "a = [1,2,3]\n",
    "q = queue.Queue(a)"
   ],
   "metadata": {
    "collapsed": false,
    "ExecuteTime": {
     "end_time": "2024-01-19T14:46:21.070261Z",
     "start_time": "2024-01-19T14:46:21.064502Z"
    }
   },
   "id": "2eca5a6b2b78f8f3"
  },
  {
   "cell_type": "code",
   "execution_count": 12,
   "outputs": [
    {
     "data": {
      "text/plain": "0"
     },
     "execution_count": 12,
     "metadata": {},
     "output_type": "execute_result"
    }
   ],
   "source": [
    "q.qsize()"
   ],
   "metadata": {
    "collapsed": false,
    "ExecuteTime": {
     "end_time": "2024-01-19T14:46:21.642346Z",
     "start_time": "2024-01-19T14:46:21.637686Z"
    }
   },
   "id": "d6d554fa48779720"
  },
  {
   "cell_type": "code",
   "execution_count": 13,
   "outputs": [
    {
     "ename": "KeyboardInterrupt",
     "evalue": "",
     "output_type": "error",
     "traceback": [
      "\u001B[0;31m---------------------------------------------------------------------------\u001B[0m",
      "\u001B[0;31mKeyboardInterrupt\u001B[0m                         Traceback (most recent call last)",
      "Cell \u001B[0;32mIn[13], line 1\u001B[0m\n\u001B[0;32m----> 1\u001B[0m \u001B[43mq\u001B[49m\u001B[38;5;241;43m.\u001B[39;49m\u001B[43mget\u001B[49m\u001B[43m(\u001B[49m\u001B[43m)\u001B[49m\n",
      "File \u001B[0;32m/Library/Developer/CommandLineTools/Library/Frameworks/Python3.framework/Versions/3.9/lib/python3.9/queue.py:171\u001B[0m, in \u001B[0;36mQueue.get\u001B[0;34m(self, block, timeout)\u001B[0m\n\u001B[1;32m    169\u001B[0m \u001B[38;5;28;01melif\u001B[39;00m timeout \u001B[38;5;129;01mis\u001B[39;00m \u001B[38;5;28;01mNone\u001B[39;00m:\n\u001B[1;32m    170\u001B[0m     \u001B[38;5;28;01mwhile\u001B[39;00m \u001B[38;5;129;01mnot\u001B[39;00m \u001B[38;5;28mself\u001B[39m\u001B[38;5;241m.\u001B[39m_qsize():\n\u001B[0;32m--> 171\u001B[0m         \u001B[38;5;28;43mself\u001B[39;49m\u001B[38;5;241;43m.\u001B[39;49m\u001B[43mnot_empty\u001B[49m\u001B[38;5;241;43m.\u001B[39;49m\u001B[43mwait\u001B[49m\u001B[43m(\u001B[49m\u001B[43m)\u001B[49m\n\u001B[1;32m    172\u001B[0m \u001B[38;5;28;01melif\u001B[39;00m timeout \u001B[38;5;241m<\u001B[39m \u001B[38;5;241m0\u001B[39m:\n\u001B[1;32m    173\u001B[0m     \u001B[38;5;28;01mraise\u001B[39;00m \u001B[38;5;167;01mValueError\u001B[39;00m(\u001B[38;5;124m\"\u001B[39m\u001B[38;5;124m'\u001B[39m\u001B[38;5;124mtimeout\u001B[39m\u001B[38;5;124m'\u001B[39m\u001B[38;5;124m must be a non-negative number\u001B[39m\u001B[38;5;124m\"\u001B[39m)\n",
      "File \u001B[0;32m/Library/Developer/CommandLineTools/Library/Frameworks/Python3.framework/Versions/3.9/lib/python3.9/threading.py:312\u001B[0m, in \u001B[0;36mCondition.wait\u001B[0;34m(self, timeout)\u001B[0m\n\u001B[1;32m    310\u001B[0m \u001B[38;5;28;01mtry\u001B[39;00m:    \u001B[38;5;66;03m# restore state no matter what (e.g., KeyboardInterrupt)\u001B[39;00m\n\u001B[1;32m    311\u001B[0m     \u001B[38;5;28;01mif\u001B[39;00m timeout \u001B[38;5;129;01mis\u001B[39;00m \u001B[38;5;28;01mNone\u001B[39;00m:\n\u001B[0;32m--> 312\u001B[0m         \u001B[43mwaiter\u001B[49m\u001B[38;5;241;43m.\u001B[39;49m\u001B[43macquire\u001B[49m\u001B[43m(\u001B[49m\u001B[43m)\u001B[49m\n\u001B[1;32m    313\u001B[0m         gotit \u001B[38;5;241m=\u001B[39m \u001B[38;5;28;01mTrue\u001B[39;00m\n\u001B[1;32m    314\u001B[0m     \u001B[38;5;28;01melse\u001B[39;00m:\n",
      "\u001B[0;31mKeyboardInterrupt\u001B[0m: "
     ]
    }
   ],
   "source": [
    "q.get()"
   ],
   "metadata": {
    "collapsed": false,
    "ExecuteTime": {
     "end_time": "2024-01-19T14:50:29.106943Z",
     "start_time": "2024-01-19T14:46:22.239911Z"
    }
   },
   "id": "77641acb7c0978c"
  },
  {
   "cell_type": "code",
   "execution_count": null,
   "outputs": [],
   "source": [],
   "metadata": {
    "collapsed": false
   },
   "id": "ef563ed85cb85b9d"
  }
 ],
 "metadata": {
  "kernelspec": {
   "display_name": "Python 3",
   "language": "python",
   "name": "python3"
  },
  "language_info": {
   "codemirror_mode": {
    "name": "ipython",
    "version": 2
   },
   "file_extension": ".py",
   "mimetype": "text/x-python",
   "name": "python",
   "nbconvert_exporter": "python",
   "pygments_lexer": "ipython2",
   "version": "2.7.6"
  }
 },
 "nbformat": 4,
 "nbformat_minor": 5
}
