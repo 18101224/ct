{
 "cells": [
  {
   "cell_type": "markdown",
   "source": [
    "<h1>후위 표기식</h1>"
   ],
   "metadata": {
    "collapsed": false
   },
   "id": "faa913505895f293"
  },
  {
   "cell_type": "code",
   "execution_count": null,
   "id": "initial_id",
   "metadata": {
    "collapsed": true
   },
   "outputs": [],
   "source": [
    "import sys\n",
    "N = int(input())\n",
    "string = sys.stdin.readline()\n",
    "variables = {}\n",
    "for i in range(65, N + 65):\n",
    "    variables[chr(i)] = int(sys.stdin.readline())\n",
    "variables['a'] = None\n",
    "stack = []\n",
    "result = 0\n",
    "\n",
    "for s in string:\n",
    "    if ord('A') <= ord(s) <= ord('Z'):\n",
    "        stack.append(s)\n",
    "\n",
    "    else:\n",
    "        if len(stack) == 1:\n",
    "            break\n",
    "        b = stack.pop()\n",
    "        a = stack.pop()\n",
    "        if type(a) == str:\n",
    "            a = variables[a]\n",
    "        if type(b) == str:\n",
    "            b = variables[b]\n",
    "        operation = f'{a}{s}{b}'\n",
    "        result = None\n",
    "        exec('result='+operation)\n",
    "        stack.append(result)\n",
    "\n",
    "print(f'{stack[0]:.2f}')"
   ]
  },
  {
   "cell_type": "markdown",
   "source": [
    "<h1>후위표기식</h1>"
   ],
   "metadata": {
    "collapsed": false
   },
   "id": "78aedf1f9b93f6b3"
  },
  {
   "cell_type": "code",
   "execution_count": null,
   "outputs": [],
   "source": [
    "import queue\n",
    "import sys\n",
    "string = sys.stdin.readline()\n",
    "\n",
    "result = ''\n",
    "first = ['*','/']\n",
    "second = ['+','-']\n",
    "opq = queue.PriorityQueue()\n",
    "\n",
    "p1, p2, p3 = 0,0,0\n",
    "for s in string:\n",
    "    if ord('A') <= ord(s) <= ord('Z'):\n",
    "        result+=s\n",
    "    elif s == '(' :\n",
    "        p1 -= 1\n",
    "    elif s == ')':\n",
    "        p1 +=1\n",
    "    else:\n",
    "        if s in first:\n",
    "            p2 = 1\n",
    "        else:\n",
    "            p2 -1\n",
    "        opq.put((p1,p2,p3,s))\n",
    "\n",
    "        while not opq.empty() :\n",
    "            temp = opq.get()\n",
    "            if temp != (p1,p2,p3,s):\n",
    "                "
   ],
   "metadata": {
    "collapsed": false
   },
   "id": "5f831cd746ae1371"
  },
  {
   "cell_type": "markdown",
   "source": [
    "<h1>알파벳 개수</h1>"
   ],
   "metadata": {
    "collapsed": false
   },
   "id": "e3eb4600276e561b"
  },
  {
   "cell_type": "code",
   "execution_count": null,
   "outputs": [],
   "source": [
    "import sys\n",
    "word = sys.stdin.readline().rstrip('\\n')\n",
    "base = ord('a')\n",
    "result = [0 for i in range(26)]\n",
    "for c in word:\n",
    "    result[ord(c)-base] +=1\n",
    "for i in result:\n",
    "    print(i,end=' ')"
   ],
   "metadata": {
    "collapsed": false
   },
   "id": "39c0980960cd5d45"
  },
  {
   "cell_type": "markdown",
   "source": [
    "<h1>알파벳 찾기</h1>"
   ],
   "metadata": {
    "collapsed": false
   },
   "id": "b0507fa501bfa42c"
  },
  {
   "cell_type": "code",
   "execution_count": 2,
   "outputs": [
    {
     "data": {
      "text/plain": "26"
     },
     "execution_count": 2,
     "metadata": {},
     "output_type": "execute_result"
    }
   ],
   "source": [
    "import sys\n",
    "word = sys.stdin.readline().rstrip('\\n')\n",
    "base = ord('a')\n",
    "result = [-1 for i in range(26)]\n",
    "for idx,c in enumerate(word):\n",
    "    if result[ord(c)-base] < 0:\n",
    "        result[ord(c)-base] = idx\n",
    "for i in result:\n",
    "    print(i,end=' ')"
   ],
   "metadata": {
    "collapsed": false,
    "ExecuteTime": {
     "end_time": "2024-01-26T08:17:51.091231Z",
     "start_time": "2024-01-26T08:17:51.080832Z"
    }
   },
   "id": "e38c97927579a176"
  },
  {
   "cell_type": "markdown",
   "source": [
    "<h1> 문자열 분석 </h1>"
   ],
   "metadata": {
    "collapsed": false
   },
   "id": "c08b39afd3331957"
  },
  {
   "cell_type": "code",
   "execution_count": null,
   "outputs": [],
   "source": [
    "import sys\n",
    "while True:\n",
    "    string = sys.stdin.readline().rstrip('\\n')\n",
    "    if not string:\n",
    "        break\n",
    "    result = [0,0,0,0] # lower, upper, num, space\n",
    "    for s in string:\n",
    "        if ord('a') <= ord(s) <= ord('z') :\n",
    "            result[0]+=1\n",
    "        elif s == ' ':\n",
    "            result[-1]+=1\n",
    "        elif ord('0') <= ord(s) <= ord('9') :\n",
    "            result[2] +=1\n",
    "        else:\n",
    "            result[1] +=1\n",
    "    sys.stdout.write(f'{result[0]} {result[1]} {result[2]} {result[-1]}')"
   ],
   "metadata": {
    "collapsed": false
   },
   "id": "e9691b7982c4ea55"
  },
  {
   "cell_type": "code",
   "execution_count": null,
   "outputs": [],
   "source": [
    "import sys\n",
    "string = sys.stdin.readline()[:-1]\n",
    "print(len(string))"
   ],
   "metadata": {
    "collapsed": false
   },
   "id": "5d595ef51038e1de"
  },
  {
   "cell_type": "code",
   "execution_count": 9,
   "outputs": [],
   "source": [
    "import sys\n",
    "codes = [ i for i in range(26)]\n",
    "codes = codes[len(codes)//2:]+codes[:len(codes)//2]\n",
    "def code(s):\n",
    "    if ord('a') <= ord(s) <= ord('z'):\n",
    "        now = ord(s)-ord('a')\n",
    "        result = codes[now]\n",
    "        return chr(result+ord('a'))\n",
    "    else:\n",
    "        now = ord(s)-ord('A')\n",
    "        result = codes[now]\n",
    "        return chr(result+ord('A'))\n",
    "\n",
    "string = sys.stdin.readline()[:-1]\n",
    "result = ''\n",
    "for s in string:\n",
    "    if s == ' ' or ord('0') <= ord(s) <=ord('9'):\n",
    "        i=0\n",
    "    else:\n",
    "        s = code(s)\n",
    "    result+=s\n",
    "print(result)"
   ],
   "metadata": {
    "collapsed": false,
    "ExecuteTime": {
     "end_time": "2024-01-26T08:49:25.263402Z",
     "start_time": "2024-01-26T08:49:25.258880Z"
    }
   },
   "id": "2b2faefa18b394be"
  },
  {
   "cell_type": "code",
   "execution_count": null,
   "outputs": [],
   "source": [
    "import sys\n",
    "nums = list(sys.stdin.readline()[:-1].split())\n",
    "print(int(nums[0]+nums[1])+int(nums[2]+nums[-1]))"
   ],
   "metadata": {
    "collapsed": false
   },
   "id": "cbb488324faa02ca"
  },
  {
   "cell_type": "code",
   "execution_count": 10,
   "outputs": [],
   "source": [
    "import sys\n",
    "string = sys.stdin.readline()[:-1]\n",
    "result = [ string[i:] for i in range(len(string))]\n",
    "print(result)"
   ],
   "metadata": {
    "collapsed": false,
    "ExecuteTime": {
     "end_time": "2024-01-26T08:59:20.706482Z",
     "start_time": "2024-01-26T08:59:20.688121Z"
    }
   },
   "id": "d8662200298e4c86"
  },
  {
   "cell_type": "code",
   "execution_count": null,
   "outputs": [],
   "source": [],
   "metadata": {
    "collapsed": false
   },
   "id": "a8587de07e2b2f14"
  }
 ],
 "metadata": {
  "kernelspec": {
   "display_name": "Python 3",
   "language": "python",
   "name": "python3"
  },
  "language_info": {
   "codemirror_mode": {
    "name": "ipython",
    "version": 2
   },
   "file_extension": ".py",
   "mimetype": "text/x-python",
   "name": "python",
   "nbconvert_exporter": "python",
   "pygments_lexer": "ipython2",
   "version": "2.7.6"
  }
 },
 "nbformat": 4,
 "nbformat_minor": 5
}
