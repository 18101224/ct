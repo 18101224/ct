{
 "cells": [
  {
   "cell_type": "code",
   "execution_count": null,
   "id": "initial_id",
   "metadata": {
    "collapsed": true
   },
   "outputs": [],
   "source": [
    "def code(a):\n",
    "    '''\n",
    "    :param a: integer input \n",
    "    :return: string \n",
    "    '''\n",
    "    if a<10 :\n",
    "        return str(a)\n",
    "    else:\n",
    "        return chr(55+a)\n",
    "n,b = tuple(map(int,input().split()))\n",
    "i = 40\n",
    "result = ''\n",
    "while i >=0 :\n",
    "    if b**i <= n :\n",
    "        q = n//b**i\n",
    "        result = result+code(q)\n",
    "        n = n - q*(b**i)\n",
    "        i-=1\n",
    "    else:\n",
    "        i-=1\n",
    "\n",
    "print(result)"
   ]
  },
  {
   "cell_type": "code",
   "execution_count": null,
   "outputs": [],
   "source": [
    "def decode(a):\n",
    "    '''\n",
    "    :param a: string\n",
    "    :return: integer\n",
    "    '''\n",
    "    if ord(0) <= ord(a) <= ord(9) :\n",
    "        return int(a)\n",
    "    else:\n",
    "        return ord(a) - 55\n",
    "\n",
    "string, b = tuple(map(int,input().split()))\n",
    "\n",
    "i = len(string) - 1 \n",
    "result = 0\n",
    "idx = 0\n",
    "while i >= 0 :\n",
    "    result += (b**i)*decode(string[idx])\n",
    "    i -= 1\n",
    "print(result)"
   ],
   "metadata": {
    "collapsed": false
   },
   "id": "48138b8048d873d0"
  },
  {
   "cell_type": "code",
   "execution_count": null,
   "outputs": [],
   "source": [
    "import sys\n",
    "a,b = tuple(map(int,sys.stdin.readline().split()))\n",
    "m = int(sys.stdin.readline())\n",
    "nums = list(map(int,sys.stdin.readline().split()))\n",
    "result = 0\n",
    "for n in nums :\n",
    "    result += n*(a**(m-1))\n",
    "    m-=1\n",
    "idx = 30\n",
    "results = []\n",
    "start = False\n",
    "while idx >= 0 :\n",
    "    if result >= b**idx :\n",
    "        q = result // b**idx\n",
    "        results.append(q)\n",
    "        result -= q*b**idx\n",
    "        start = True\n",
    "        idx-=1\n",
    "    else:\n",
    "        if start :\n",
    "            results.append(0)\n",
    "        idx-=1\n",
    "for i in results:\n",
    "    print(i,end=' ')"
   ],
   "metadata": {
    "collapsed": false
   },
   "id": "f04fadb9281d3bbe"
  },
  {
   "cell_type": "code",
   "execution_count": null,
   "outputs": [],
   "source": [],
   "metadata": {
    "collapsed": false
   },
   "id": "dc00da0fd4b1ee7c"
  }
 ],
 "metadata": {
  "kernelspec": {
   "display_name": "Python 3",
   "language": "python",
   "name": "python3"
  },
  "language_info": {
   "codemirror_mode": {
    "name": "ipython",
    "version": 2
   },
   "file_extension": ".py",
   "mimetype": "text/x-python",
   "name": "python",
   "nbconvert_exporter": "python",
   "pygments_lexer": "ipython2",
   "version": "2.7.6"
  }
 },
 "nbformat": 4,
 "nbformat_minor": 5
}
