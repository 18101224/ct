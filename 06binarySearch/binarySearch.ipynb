{
 "cells": [
  {
   "cell_type": "code",
   "execution_count": 1,
   "metadata": {},
   "outputs": [],
   "source": [
    "from collections import defaultdict\n",
    "import math\n",
    "import sys"
   ]
  },
  {
   "cell_type": "code",
   "execution_count": null,
   "metadata": {},
   "outputs": [],
   "source": [
    "def binary_search(array,target,start,end):\n",
    "    while start<=end:\n",
    "        mid = (start+end)//2\n",
    "        if array[mid] == target : \n",
    "            return mid\n",
    "        elif array[mid] < target :\n",
    "            start = mid+1\n",
    "        else:\n",
    "            start = mid-1\n",
    "    return None\n"
   ]
  },
  {
   "cell_type": "code",
   "execution_count": null,
   "metadata": {},
   "outputs": [],
   "source": [
    "sys.stdin.readline().rstrip() #공백제거용"
   ]
  },
  {
   "attachments": {},
   "cell_type": "markdown",
   "metadata": {},
   "source": [
    "<h1>실전문제1 부품찾기</h1>"
   ]
  },
  {
   "cell_type": "code",
   "execution_count": null,
   "metadata": {},
   "outputs": [],
   "source": [
    "#그냥 내가 한 풀이, 책의 첫번째 풀이와 비슷하다. \n",
    "def search(array, target, start, end):\n",
    "    while start <= end:\n",
    "        mid = (start + end) // 2\n",
    "        if array[mid] == target:\n",
    "            return mid\n",
    "        elif array[mid] < target:\n",
    "            start = mid-1\n",
    "        else:\n",
    "            start = mid + 1\n",
    "    return -1\n",
    "\n",
    "N,M = map(int,sys.stdin.readline().rstrip())\n",
    "store = list(map(int,sys.stdin.readline().rstrip()))\n",
    "find = list(map(int, sys.stdin.readline().rstrip()))\n",
    "find.sort()\n",
    "store.sort()\n",
    "start = 0\n",
    "end=len(store)-1\n",
    "results = []\n",
    "for i in find:\n",
    "    result = search(store,i,start,end)\n",
    "    if result >=0:\n",
    "        results.append('yes')\n",
    "        start = result+1 #좀 더 빠르게 하기\n",
    "    else:\n",
    "        results.append('no')\n",
    "print(results)"
   ]
  },
  {
   "cell_type": "code",
   "execution_count": null,
   "metadata": {},
   "outputs": [],
   "source": [
    "#계수정렬 풀이, \n",
    "#메모리를 더 사용하지만 시간이 훨씬 빠르다. 정렬되어있을 필요가 없으며 O(m)의 시간이 걸린다. \n",
    "n = int(input())\n",
    "array= defaultdict(bool)\n",
    "for i in input().split():\n",
    "    array[i] = True\n",
    "m = int(input())\n",
    "find = list(map(int,input().split()))\n",
    "for i in find:\n",
    "    if array[i]:\n",
    "        print('yes', end=' ')\n",
    "    else:\n",
    "        print('no', end=' ')\n",
    "        "
   ]
  },
  {
   "attachments": {},
   "cell_type": "markdown",
   "metadata": {},
   "source": [
    "<h1>떡볶이떡</h1>"
   ]
  },
  {
   "cell_type": "code",
   "execution_count": null,
   "metadata": {},
   "outputs": [],
   "source": [
    "# 각각 떡을 개체로 보고, 떡을 내림차순으로 정렬한다. 첫번째 떡만 자를 때 얻을 수 있는 최대의 떡, 두번째떡 까지 자를때 ... 를 저장해서 계산한다. \n",
    "import sys\n",
    "def search(areas,target):\n",
    "    for i,num in enumerate(areas): #필요한 떡의 크기에 따라서 몇번째 떡까지 잘라야하는 지 찾는 함수\n",
    "        if target<=num:\n",
    "            return i\n",
    "n,m = map(int,input().split())\n",
    "cake= list(map(int,sys.stdin.readline().split()))\n",
    "cake.sort(reverse=True)\n",
    "areas=[]\n",
    "for i in range(n): # n번째 떡을 잘랐을때 얻을 수 있는 최대 떡을 리스트에 저장해놓는다. \n",
    "    width = i+1\n",
    "    if i != n-1:\n",
    "        diff = cake[i]-cake[i+1]\n",
    "        if i ==0:\n",
    "            areas.append(diff)\n",
    "        else:\n",
    "            areas.append(diff*width+areas[i-1])\n",
    "    else:\n",
    "        areas.append(areas[i-1]+cake[i]*width)\n",
    "bin = search(areas,m)\n",
    "width=(bin+1)\n",
    "if bin !=0: #구하는 과정\n",
    "    result = cake[bin]-int((areas[bin]-areas[bin-1])/width)\n",
    "else:\n",
    "    result = cake[0]-bin\n",
    "print(result)\n",
    "print(bin)\n",
    "print(areas)\n",
    "print(cake)"
   ]
  },
  {
   "cell_type": "code",
   "execution_count": null,
   "metadata": {},
   "outputs": [],
   "source": [
    "n,m=list(map(int,input().split()))\n",
    "array = list(map(int,input().split()))\n",
    "\n",
    "start = 0\n",
    "\n",
    "end = max(array)\n",
    "\n",
    "result = 0\n",
    "while(start<=end):\n",
    "    total = 0\n",
    "    mid = (start + end) //2\n",
    "    for x in array:\n",
    "        if x>mid :\n",
    "            total+=x-mid\n",
    "    if total < m:\n",
    "        end = mid-1\n",
    "    else:\n",
    "        result = mid\n",
    "        start = mid+1\n",
    "    \n",
    "            "
   ]
  }
 ],
 "metadata": {
  "kernelspec": {
   "display_name": "ML",
   "language": "python",
   "name": "python3"
  },
  "language_info": {
   "codemirror_mode": {
    "name": "ipython",
    "version": 3
   },
   "file_extension": ".py",
   "mimetype": "text/x-python",
   "name": "python",
   "nbconvert_exporter": "python",
   "pygments_lexer": "ipython3",
   "version": "3.9.0"
  },
  "orig_nbformat": 4
 },
 "nbformat": 4,
 "nbformat_minor": 2
}
