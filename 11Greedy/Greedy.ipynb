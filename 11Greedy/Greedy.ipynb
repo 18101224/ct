{
 "cells": [
  {
   "cell_type": "code",
   "execution_count": 41,
   "metadata": {},
   "outputs": [],
   "source": [
    "from collections import defaultdict\n",
    "from collections import Counter\n",
    "from copy import deepcopy"
   ]
  },
  {
   "cell_type": "code",
   "execution_count": 43,
   "metadata": {},
   "outputs": [
    {
     "name": "stdout",
     "output_type": "stream",
     "text": [
      "1\n",
      "2\n",
      "3\n"
     ]
    }
   ],
   "source": [
    "N=int(input())\n",
    "scare = list(map(int,input().split()))\n",
    "scare = Counter(scare)\n",
    "scare = list(map(list,scare.items()))\n",
    "result = 0\n",
    "remain=0\n",
    "scare = sorted(scare,key= lambda x : x[0])\n",
    "\n",
    "for i,(index,count) in enumerate(scare):\n",
    "    print(index)\n",
    "    if index <= count:\n",
    "        result += count // index\n",
    "        scare[i][1]-= (count//index) * index\n",
    "        count = scare[i][1]\n",
    "        remain += scare[i][1]\n",
    "    else:\n",
    "        if i < len(scare)-1 :\n",
    "            scare[i+1][1]+=scare[i][1]\n"
   ]
  },
  {
   "cell_type": "code",
   "execution_count": 44,
   "metadata": {},
   "outputs": [
    {
     "data": {
      "text/plain": [
       "2"
      ]
     },
     "execution_count": 44,
     "metadata": {},
     "output_type": "execute_result"
    }
   ],
   "source": [
    "result"
   ]
  },
  {
   "cell_type": "code",
   "execution_count": 39,
   "metadata": {},
   "outputs": [
    {
     "name": "stdout",
     "output_type": "stream",
     "text": [
      "576\n"
     ]
    }
   ],
   "source": [
    "n = input()\n",
    "result = int(n[0])\n",
    "for i in n[1:]:\n",
    "    num = int(i)\n",
    "    if result == 0 :\n",
    "        result+=num\n",
    "    elif num == 0:\n",
    "        continue\n",
    "    elif num == 1:\n",
    "        result+=1\n",
    "    else:\n",
    "        result*=num\n",
    "print(result)"
   ]
  },
  {
   "cell_type": "code",
   "execution_count": null,
   "metadata": {},
   "outputs": [],
   "source": [
    "def count_blocks(array):\n",
    "    ones=[]\n",
    "    zeros=[]\n",
    "    index=1\n",
    "    former =0\n",
    "    temp = array[0]\n",
    "    while True:\n",
    "        if array[index] == temp:\n",
    "            index+=1\n",
    "            continue\n",
    "        else:\n",
    "            if array[index-1] =='0':\n",
    "                zeros.append(array[former:index])\n",
    "            else:\n",
    "                ones.append(array[former:index])\n",
    "            former = index\n",
    "            temp = array[index]\n",
    "            index+=1\n",
    "        \n",
    "    return min(len(ones),len(zeros))"
   ]
  },
  {
   "cell_type": "code",
   "execution_count": null,
   "metadata": {},
   "outputs": [],
   "source": [
    "bin = input()\n",
    "result = count_blocks(bin)"
   ]
  },
  {
   "cell_type": "code",
   "execution_count": null,
   "metadata": {},
   "outputs": [],
   "source": []
  }
 ],
 "metadata": {
  "kernelspec": {
   "display_name": "Python 3",
   "language": "python",
   "name": "python3"
  },
  "language_info": {
   "codemirror_mode": {
    "name": "ipython",
    "version": 3
   },
   "file_extension": ".py",
   "mimetype": "text/x-python",
   "name": "python",
   "nbconvert_exporter": "python",
   "pygments_lexer": "ipython3",
   "version": "3.10.9"
  },
  "orig_nbformat": 4
 },
 "nbformat": 4,
 "nbformat_minor": 2
}
