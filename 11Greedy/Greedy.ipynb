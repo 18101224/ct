{
 "cells": [
  {
   "cell_type": "code",
   "execution_count": 9,
   "metadata": {},
   "outputs": [],
   "source": [
    "from collections import defaultdict\n",
    "from collections import Counter\n",
    "from copy import deepcopy"
   ]
  },
  {
   "cell_type": "code",
   "execution_count": 43,
   "metadata": {},
   "outputs": [
    {
     "name": "stdout",
     "output_type": "stream",
     "text": [
      "1\n",
      "2\n",
      "3\n"
     ]
    }
   ],
   "source": [
    "N=int(input())\n",
    "scare = list(map(int,input().split()))\n",
    "scare = Counter(scare)\n",
    "scare = list(map(list,scare.items()))\n",
    "result = 0\n",
    "remain=0\n",
    "scare = sorted(scare,key= lambda x : x[0])\n",
    "\n",
    "for i,(index,count) in enumerate(scare):\n",
    "    print(index)\n",
    "    if index <= count:\n",
    "        result += count // index\n",
    "        scare[i][1]-= (count//index) * index\n",
    "        count = scare[i][1]\n",
    "        remain += scare[i][1]\n",
    "    else:\n",
    "        if i < len(scare)-1 :\n",
    "            scare[i+1][1]+=scare[i][1]\n"
   ]
  },
  {
   "cell_type": "code",
   "execution_count": 44,
   "metadata": {},
   "outputs": [
    {
     "data": {
      "text/plain": [
       "2"
      ]
     },
     "execution_count": 44,
     "metadata": {},
     "output_type": "execute_result"
    }
   ],
   "source": [
    "result"
   ]
  },
  {
   "cell_type": "code",
   "execution_count": 39,
   "metadata": {},
   "outputs": [
    {
     "name": "stdout",
     "output_type": "stream",
     "text": [
      "576\n"
     ]
    }
   ],
   "source": [
    "n = input()\n",
    "result = int(n[0])\n",
    "for i in n[1:]:\n",
    "    num = int(i)\n",
    "    if result == 0 :\n",
    "        result+=num\n",
    "    elif num == 0:\n",
    "        continue\n",
    "    elif num == 1:\n",
    "        result+=1\n",
    "    else:\n",
    "        result*=num\n",
    "print(result)"
   ]
  },
  {
   "cell_type": "code",
   "execution_count": null,
   "metadata": {},
   "outputs": [],
   "source": [
    "def count_blocks(array):\n",
    "    ones=[]\n",
    "    zeros=[]\n",
    "    index=1\n",
    "    former =0\n",
    "    temp = array[0]\n",
    "    while True:\n",
    "        if array[index] == temp:\n",
    "            index+=1\n",
    "            continue\n",
    "        else:\n",
    "            if array[index-1] =='0':\n",
    "                zeros.append(array[former:index])\n",
    "            else:\n",
    "                ones.append(array[former:index])\n",
    "            former = index\n",
    "            temp = array[index]\n",
    "            index+=1\n",
    "        \n",
    "    return min(len(ones),len(zeros))"
   ]
  },
  {
   "cell_type": "code",
   "execution_count": null,
   "metadata": {},
   "outputs": [],
   "source": [
    "bin = input()\n",
    "result = count_blocks(bin)"
   ]
  },
  {
   "cell_type": "code",
   "execution_count": 18,
   "metadata": {},
   "outputs": [],
   "source": [
    "import math\n",
    "n = int(input())\n",
    "coins = list(map(int,input().split()))\n",
    "coins.sort()\n",
    "total = sum(coins)\n",
    "dp = [[] for i in range(total+1)]\n",
    "id=0\n",
    "dp[0] = [deepcopy(coins)]\n",
    "for target in range(1,total+1):\n",
    "    for index, c in enumerate(coins):\n",
    "        if target-c >=0:\n",
    "            for cl in dp[target-c]:\n",
    "                if c in cl:\n",
    "                    temp = deepcopy(cl)\n",
    "                    temp.remove(c)\n",
    "                    dp[target].append(temp)"
   ]
  },
  {
   "cell_type": "code",
   "execution_count": 20,
   "metadata": {},
   "outputs": [
    {
     "name": "stdout",
     "output_type": "stream",
     "text": [
      "8\n"
     ]
    }
   ],
   "source": [
    "for i in range(1,len(dp)):\n",
    "    if dp[i] == []:\n",
    "        print(i)\n",
    "        break"
   ]
  },
  {
   "cell_type": "code",
   "execution_count": 24,
   "metadata": {},
   "outputs": [
    {
     "name": "stdout",
     "output_type": "stream",
     "text": [
      "8\n"
     ]
    }
   ],
   "source": [
    "def combi(p):\n",
    "    return int((p*(p-1))/2)\n",
    "n,m = map(int,input().split())\n",
    "temp = list(map(int,input().split()))\n",
    "balls = [0] + temp\n",
    "from collections import Counter\n",
    "count = Counter(balls)\n",
    "sub = 0\n",
    "for i,p in count.items():\n",
    "    if p >= 2:\n",
    "        sub+= int((p*(p-1))/2)\n",
    "print(combi(n)-sub)"
   ]
  },
  {
   "cell_type": "code",
   "execution_count": 36,
   "metadata": {},
   "outputs": [
    {
     "data": {
      "text/plain": [
       "array([8, 6])"
      ]
     },
     "execution_count": 36,
     "metadata": {},
     "output_type": "execute_result"
    }
   ],
   "source": [
    "import numpy as np\n",
    "test = np.array([4,4,8,6])\n",
    "np.argmin(test)\n",
    "test == 4\n",
    "np.delete(test,test==4,0)"
   ]
  },
  {
   "cell_type": "code",
   "execution_count": 44,
   "metadata": {},
   "outputs": [
    {
     "data": {
      "text/plain": [
       "3"
      ]
     },
     "execution_count": 44,
     "metadata": {},
     "output_type": "execute_result"
    }
   ],
   "source": [
    "import numpy as np\n",
    "def solution(food_times,k):\n",
    "    total = sum(food_times)\n",
    "    new = []\n",
    "    if total <= k:\n",
    "        return -1\n",
    "    food_times = np.array(food_times)\n",
    "    indice = [i for i in range(len(food_times))]\n",
    "    while True:\n",
    "        m = food_times.min()\n",
    "        width = len(food_times)\n",
    "        total=m*width\n",
    "        if k >total :\n",
    "            temp = food_times==m\n",
    "            food_times-=m\n",
    "            food_times = np.delete(food_times,temp,0)\n",
    "            k-=total\n",
    "            for i ,x in enumerate(temp):\n",
    "                if x: \n",
    "                    indice.pop(i)\n",
    "        elif k < total:\n",
    "            s=width\n",
    "            while True:\n",
    "                if s > k:\n",
    "                    index = k\n",
    "                    if index == len(indice):\n",
    "                        return indice[0]+1\n",
    "                    else:\n",
    "                        return indice[index]+1\n",
    "                else:\n",
    "                    k-=width\n",
    "        else:\n",
    "            return new[0][1]+1\n",
    "\n",
    "\n",
    "solution([4,1,2],4)"
   ]
  }
 ],
 "metadata": {
  "kernelspec": {
   "display_name": "Python 3",
   "language": "python",
   "name": "python3"
  },
  "language_info": {
   "codemirror_mode": {
    "name": "ipython",
    "version": 3
   },
   "file_extension": ".py",
   "mimetype": "text/x-python",
   "name": "python",
   "nbconvert_exporter": "python",
   "pygments_lexer": "ipython3",
   "version": "3.10.9"
  },
  "orig_nbformat": 4
 },
 "nbformat": 4,
 "nbformat_minor": 2
}
